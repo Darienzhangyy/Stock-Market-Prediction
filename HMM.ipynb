{
 "cells": [
  {
   "cell_type": "markdown",
   "metadata": {},
   "source": [
    "! pip install -U --user hmmlearn"
   ]
  },
  {
   "cell_type": "markdown",
   "metadata": {},
   "source": [
    "# Example"
   ]
  },
  {
   "cell_type": "code",
   "execution_count": 101,
   "metadata": {
    "collapsed": false
   },
   "outputs": [
    {
     "name": "stdout",
     "output_type": "stream",
     "text": [
      "Automatically created module for IPython interactive environment\n"
     ]
    }
   ],
   "source": [
    "from __future__ import print_function\n",
    "\n",
    "import datetime\n",
    "\n",
    "\n",
    "import numpy as np\n",
    "from matplotlib import cm, pyplot as plt\n",
    "from matplotlib.dates import YearLocator, MonthLocator\n",
    "try:\n",
    "    from matplotlib.finance import quotes_historical_yahoo_ochl\n",
    "except ImportError:\n",
    "    # For Matplotlib prior to 1.5.\n",
    "    from matplotlib.finance import (\n",
    "        quotes_historical_yahoo as quotes_historical_yahoo_ochl\n",
    "    )\n",
    "\n",
    "from hmmlearn.hmm import GaussianHMM\n",
    "\n",
    "print(__doc__)"
   ]
  },
  {
   "cell_type": "code",
   "execution_count": 139,
   "metadata": {
    "collapsed": false
   },
   "outputs": [],
   "source": [
    "def HMM(stock, start, end, isPrint = False):\n",
    "    quotes = quotes_historical_yahoo_ochl( stock, start, end)\n",
    "\n",
    "    # Unpack quotes\n",
    "    dates = np.array([q[0] for q in quotes], dtype=int)\n",
    "    close_v = np.array([q[2] for q in quotes])\n",
    "    volume = np.array([q[5] for q in quotes])[1:]\n",
    "    open_v = np.array([q[1] for q in quotes])\n",
    "    high_v = np.array([q[3] for q in quotes])\n",
    "    low_v = np.array([q[4] for q in quotes])\n",
    "\n",
    "    diff = np.diff(close_v)\n",
    "    dates = dates[1:]\n",
    "    gap = close_v[1:] - open_v[0:(len(open_v)-1)]\n",
    "    close_v = close_v[1:]\n",
    "    # open_v =open_v[1:]\n",
    "    diff_op = np.diff(open_v)\n",
    "    # high_v = high_v[1:]\n",
    "    # low_v = low_v[1:]\n",
    "\n",
    "    # quotes\n",
    "    X = np.column_stack([diff, volume]) \n",
    "#     X = np.column_stack([close_v, open_v, high_v,low_v]) \n",
    "    # Make an HMM instance and execute fit\n",
    "    model = GaussianHMM(n_components=4, covariance_type=\"diag\", n_iter=1000).fit(X)\n",
    "    \n",
    "    # Predict the optimal sequence of internal hidden state\n",
    "    hidden_states = model.predict(X)\n",
    "    \n",
    "#     isPrint = False\n",
    "    if isPrint:\n",
    "        print(\"Transition matrix\")\n",
    "        print(model.transmat_)\n",
    "        print()\n",
    "\n",
    "        print(\"Means and vars of each hidden state\")\n",
    "        for i in range(model.n_components):\n",
    "            print(\"{0}th hidden state\".format(i))\n",
    "            print(\"mean = \", model.means_[i])\n",
    "            print(\"var = \", np.diag(model.covars_[i]))\n",
    "            print()\n",
    "            \n",
    "        fig, axs = plt.subplots(model.n_components, sharex=True, sharey=True)\n",
    "        colours = cm.rainbow(np.linspace(0, 1, model.n_components))\n",
    "        for i, (ax, colour) in enumerate(zip(axs, colours)):\n",
    "            # Use fancy indexing to plot data in each state.\n",
    "            mask = hidden_states == i\n",
    "            ax.plot_date(dates[mask], close_v[mask], \".-\", c=colour)\n",
    "            ax.set_title(\"{0}th hidden state\".format(i))\n",
    "\n",
    "            # Format the ticks.\n",
    "            ax.xaxis.set_major_locator(YearLocator())\n",
    "            ax.xaxis.set_minor_locator(MonthLocator())\n",
    "            ax.grid(True)\n",
    "\n",
    "        plt.show()\n",
    "    \n",
    "    \n",
    "    Zn_post = model.predict_proba(X)[-1]\n",
    "    Zn1Zn = (model.transmat_.T * Zn_post).T\n",
    "    Zn1_post = np.sum(Zn1Zn, axis = 0)\n",
    "    \n",
    "    x = np.linspace(-100,100,1000000)\n",
    "    if isPrint:\n",
    "        plt.plot(x,mix_normal(model, x, Zn1_post))\n",
    "    predict = x[np.argmax(mix_normal(model, x, Zn1_post))]\n",
    "    \n",
    "    return predict+close_v[-1]\n",
    "\n",
    "import scipy.stats as sp\n",
    "def mix_normal(model, x,Zn1_post):\n",
    "    r = 0\n",
    "    for i in range(4):\n",
    "        r += sp.norm.pdf(x,model.means_[i][0],model.covars_[i][0,0])*Zn1_post[i]\n",
    "    return r\n"
   ]
  },
  {
   "cell_type": "code",
   "execution_count": 140,
   "metadata": {
    "collapsed": false,
    "scrolled": false
   },
   "outputs": [],
   "source": [
    "def MSE(df, df_true):\n",
    "    output = []\n",
    "    for i in range(df.shape[1]):\n",
    "        output.append(sum((df.ix[:,i]- df_true.ix[:,i])**2)/df.shape[1])\n",
    "    return output"
   ]
  },
  {
   "cell_type": "code",
   "execution_count": 173,
   "metadata": {
    "collapsed": false
   },
   "outputs": [
    {
     "name": "stdout",
     "output_type": "stream",
     "text": [
      "Transition matrix\n",
      "[[  1.44968350e-09   1.64314319e-02   9.08628560e-01   7.49400061e-02]\n",
      " [  2.43200188e-01   7.54995803e-01   1.80400942e-03   2.47707221e-84]\n",
      " [  4.24773249e-01   4.73953634e-01   1.01273117e-01   1.86684805e-28]\n",
      " [  1.66634593e-01   3.09219360e-86   9.08253705e-32   8.33365407e-01]]\n",
      "\n",
      "Means and vars of each hidden state\n",
      "0th hidden state\n",
      "mean =  [ -5.95807543e+00   2.90923578e+06]\n",
      "var =  [  1.24589414e+02   2.40490139e+11]\n",
      "\n",
      "1th hidden state\n",
      "mean =  [  7.42297517e-01   1.73537455e+06]\n",
      "var =  [  3.97065281e+01   5.93782004e+10]\n",
      "\n",
      "2th hidden state\n",
      "mean =  [  9.37020273e+00   2.25611319e+06]\n",
      "var =  [  1.15108379e+02   6.28415161e+10]\n",
      "\n",
      "3th hidden state\n",
      "mean =  [ -1.00311585e+01   5.36291059e+06]\n",
      "var =  [  3.35962786e+02   5.04378695e+11]\n",
      "\n"
     ]
    },
    {
     "data": {
      "image/png": "[encoded data removed]",
      "text/plain": [
       "<matplotlib.figure.Figure at 0x1033c02e8>"
      ]
     },
     "metadata": {},
     "output_type": "display_data"
    },
    {
     "data": {
      "text/plain": [
       "750.58487367490068"
      ]
     },
     "execution_count": 173,
     "metadata": {},
     "output_type": "execute_result"
    },
    {
     "data": {
      "image/png": "[encoded data removed]",
      "text/plain": [
       "<matplotlib.figure.Figure at 0x1119b28d0>"
      ]
     },
     "metadata": {},
     "output_type": "display_data"
    }
   ],
   "source": [
    "HMM('GOOG', datetime.datetime(2016,1,1), datetime.datetime(2016,4,1),True)"
   ]
  },
  {
   "cell_type": "code",
   "execution_count": 121,
   "metadata": {
    "collapsed": true
   },
   "outputs": [],
   "source": [
    "import pandas as pd\n",
    "from pandas import Series, DataFrame\n",
    "from datetime import timedelta"
   ]
  },
  {
   "cell_type": "code",
   "execution_count": 176,
   "metadata": {
    "collapsed": false
   },
   "outputs": [],
   "source": [
    "company = [\"AAPL\",\"FB\",\"LNKD\",\"AMZN\",\"GOOG\",\"MSFT\",\"BABA\"]\n",
    "# preDate =  np.asarray(pd.date_range('4/1/2016', periods=30))\n",
    "# pd.Timestamp(preDate[1]).to_pydatetime().date()\n",
    "numdays = 20\n",
    "# base = datetime.datetime.today().date() -timedelta(1)\n",
    "base = datetime.datetime(2016,4,20)\n",
    "preDate = [base - datetime.timedelta(days=x) for x in range(0, numdays)]"
   ]
  },
  {
   "cell_type": "code",
   "execution_count": 177,
   "metadata": {
    "collapsed": false
   },
   "outputs": [],
   "source": [
    "# quotes_historical_yahoo_ochl('LNKD', datetime.datetime(2016,3,27), datetime.datetime(2016,3,27))"
   ]
  },
  {
   "cell_type": "code",
   "execution_count": 178,
   "metadata": {
    "collapsed": false
   },
   "outputs": [
    {
     "data": {
      "text/html": [
       "<div>\n",
       "<table border=\"1\" class=\"dataframe\">\n",
       "  <thead>\n",
       "    <tr style=\"text-align: right;\">\n",
       "      <th></th>\n",
       "      <th>AAPL</th>\n",
       "      <th>FB</th>\n",
       "      <th>LNKD</th>\n",
       "      <th>AMZN</th>\n",
       "      <th>GOOG</th>\n",
       "      <th>MSFT</th>\n",
       "      <th>BABA</th>\n",
       "    </tr>\n",
       "  </thead>\n",
       "  <tbody>\n",
       "    <tr>\n",
       "      <th>2016-04-20</th>\n",
       "      <td>106.64</td>\n",
       "      <td>112.43</td>\n",
       "      <td>115.75</td>\n",
       "      <td>630</td>\n",
       "      <td>758</td>\n",
       "      <td>56.29</td>\n",
       "      <td>79</td>\n",
       "    </tr>\n",
       "    <tr>\n",
       "      <th>2016-04-19</th>\n",
       "      <td>107.88</td>\n",
       "      <td>111.1</td>\n",
       "      <td>118.22</td>\n",
       "      <td>637.14</td>\n",
       "      <td>769.51</td>\n",
       "      <td>56.63</td>\n",
       "      <td>79.2</td>\n",
       "    </tr>\n",
       "    <tr>\n",
       "      <th>2016-04-18</th>\n",
       "      <td>108.89</td>\n",
       "      <td>109.74</td>\n",
       "      <td>115.76</td>\n",
       "      <td>625.35</td>\n",
       "      <td>760.46</td>\n",
       "      <td>55.49</td>\n",
       "      <td>78.52</td>\n",
       "    </tr>\n",
       "    <tr>\n",
       "      <th>2016-04-17</th>\n",
       "      <td>None</td>\n",
       "      <td>None</td>\n",
       "      <td>None</td>\n",
       "      <td>None</td>\n",
       "      <td>None</td>\n",
       "      <td>None</td>\n",
       "      <td>None</td>\n",
       "    </tr>\n",
       "    <tr>\n",
       "      <th>2016-04-16</th>\n",
       "      <td>None</td>\n",
       "      <td>None</td>\n",
       "      <td>None</td>\n",
       "      <td>None</td>\n",
       "      <td>None</td>\n",
       "      <td>None</td>\n",
       "      <td>None</td>\n",
       "    </tr>\n",
       "  </tbody>\n",
       "</table>\n",
       "</div>"
      ],
      "text/plain": [
       "              AAPL      FB    LNKD    AMZN    GOOG   MSFT   BABA\n",
       "2016-04-20  106.64  112.43  115.75     630     758  56.29     79\n",
       "2016-04-19  107.88   111.1  118.22  637.14  769.51  56.63   79.2\n",
       "2016-04-18  108.89  109.74  115.76  625.35  760.46  55.49  78.52\n",
       "2016-04-17    None    None    None    None    None   None   None\n",
       "2016-04-16    None    None    None    None    None   None   None"
      ]
     },
     "execution_count": 178,
     "metadata": {},
     "output_type": "execute_result"
    }
   ],
   "source": [
    "# true data\n",
    "df_true =DataFrame(index = preDate, columns = company)\n",
    "for date in preDate:\n",
    "    for comp in company:\n",
    "#         print(date)\n",
    "#         print(comp)\n",
    "        true = quotes_historical_yahoo_ochl(comp, date, date)\n",
    "        if true is None:\n",
    "            df_true[comp][date] = None\n",
    "        else:\n",
    "            df_true[comp][date] = true[0][1]\n",
    "\n",
    "df_true.head()"
   ]
  },
  {
   "cell_type": "code",
   "execution_count": 179,
   "metadata": {
    "collapsed": false
   },
   "outputs": [],
   "source": [
    "trueDate = np.array([preDate[i] for i,check in enumerate(df_true.ix[:,1]) if not check is None])\n",
    "df_true= df_true.ix[trueDate,:]\n",
    "df = DataFrame(index = trueDate, columns = company)"
   ]
  },
  {
   "cell_type": "code",
   "execution_count": null,
   "metadata": {
    "collapsed": false,
    "scrolled": true
   },
   "outputs": [],
   "source": []
  },
  {
   "cell_type": "code",
   "execution_count": 185,
   "metadata": {
    "collapsed": false
   },
   "outputs": [
    {
     "data": {
      "text/html": [
       "<div>\n",
       "<table border=\"1\" class=\"dataframe\">\n",
       "  <thead>\n",
       "    <tr style=\"text-align: right;\">\n",
       "      <th></th>\n",
       "      <th>GOOG</th>\n",
       "    </tr>\n",
       "  </thead>\n",
       "  <tbody>\n",
       "    <tr>\n",
       "      <th>2016-04-20</th>\n",
       "      <td>759.74</td>\n",
       "    </tr>\n",
       "    <tr>\n",
       "      <th>2016-04-19</th>\n",
       "      <td>766.836</td>\n",
       "    </tr>\n",
       "    <tr>\n",
       "      <th>2016-04-18</th>\n",
       "      <td>758.763</td>\n",
       "    </tr>\n",
       "    <tr>\n",
       "      <th>2016-04-15</th>\n",
       "      <td>752.785</td>\n",
       "    </tr>\n",
       "    <tr>\n",
       "      <th>2016-04-14</th>\n",
       "      <td>752.107</td>\n",
       "    </tr>\n",
       "    <tr>\n",
       "      <th>2016-04-13</th>\n",
       "      <td>741.898</td>\n",
       "    </tr>\n",
       "    <tr>\n",
       "      <th>2016-04-12</th>\n",
       "      <td>735.796</td>\n",
       "    </tr>\n",
       "    <tr>\n",
       "      <th>2016-04-11</th>\n",
       "      <td>739.065</td>\n",
       "    </tr>\n",
       "    <tr>\n",
       "      <th>2016-04-08</th>\n",
       "      <td>740.918</td>\n",
       "    </tr>\n",
       "    <tr>\n",
       "      <th>2016-04-07</th>\n",
       "      <td>746.657</td>\n",
       "    </tr>\n",
       "  </tbody>\n",
       "</table>\n",
       "</div>"
      ],
      "text/plain": [
       "               GOOG\n",
       "2016-04-20   759.74\n",
       "2016-04-19  766.836\n",
       "2016-04-18  758.763\n",
       "2016-04-15  752.785\n",
       "2016-04-14  752.107\n",
       "2016-04-13  741.898\n",
       "2016-04-12  735.796\n",
       "2016-04-11  739.065\n",
       "2016-04-08  740.918\n",
       "2016-04-07  746.657"
      ]
     },
     "execution_count": 185,
     "metadata": {},
     "output_type": "execute_result"
    }
   ],
   "source": [
    "#test\n",
    "\n",
    "dff = DataFrame(index = trueDate, columns = ['GOOG'])\n",
    "for date in trueDate:\n",
    "     dff['GOOG'][date] = HMM('GOOG', date-timedelta(71), date-timedelta(1))\n",
    "dff.head(10)"
   ]
  },
  {
   "cell_type": "code",
   "execution_count": 186,
   "metadata": {
    "collapsed": false
   },
   "outputs": [
    {
     "data": {
      "text/html": [
       "<div>\n",
       "<table border=\"1\" class=\"dataframe\">\n",
       "  <thead>\n",
       "    <tr style=\"text-align: right;\">\n",
       "      <th></th>\n",
       "      <th>GOOG</th>\n",
       "    </tr>\n",
       "  </thead>\n",
       "  <tbody>\n",
       "    <tr>\n",
       "      <th>2016-04-20</th>\n",
       "      <td>759.74</td>\n",
       "    </tr>\n",
       "    <tr>\n",
       "      <th>2016-04-19</th>\n",
       "      <td>766.836</td>\n",
       "    </tr>\n",
       "    <tr>\n",
       "      <th>2016-04-18</th>\n",
       "      <td>758.763</td>\n",
       "    </tr>\n",
       "    <tr>\n",
       "      <th>2016-04-15</th>\n",
       "      <td>752.785</td>\n",
       "    </tr>\n",
       "    <tr>\n",
       "      <th>2016-04-14</th>\n",
       "      <td>752.107</td>\n",
       "    </tr>\n",
       "    <tr>\n",
       "      <th>2016-04-13</th>\n",
       "      <td>741.898</td>\n",
       "    </tr>\n",
       "    <tr>\n",
       "      <th>2016-04-12</th>\n",
       "      <td>735.796</td>\n",
       "    </tr>\n",
       "    <tr>\n",
       "      <th>2016-04-11</th>\n",
       "      <td>739.065</td>\n",
       "    </tr>\n",
       "    <tr>\n",
       "      <th>2016-04-08</th>\n",
       "      <td>740.918</td>\n",
       "    </tr>\n",
       "    <tr>\n",
       "      <th>2016-04-07</th>\n",
       "      <td>746.657</td>\n",
       "    </tr>\n",
       "    <tr>\n",
       "      <th>2016-04-06</th>\n",
       "      <td>738.492</td>\n",
       "    </tr>\n",
       "    <tr>\n",
       "      <th>2016-04-05</th>\n",
       "      <td>746.255</td>\n",
       "    </tr>\n",
       "    <tr>\n",
       "      <th>2016-04-04</th>\n",
       "      <td>751.15</td>\n",
       "    </tr>\n",
       "    <tr>\n",
       "      <th>2016-04-01</th>\n",
       "      <td>745.282</td>\n",
       "    </tr>\n",
       "  </tbody>\n",
       "</table>\n",
       "</div>"
      ],
      "text/plain": [
       "               GOOG\n",
       "2016-04-20   759.74\n",
       "2016-04-19  766.836\n",
       "2016-04-18  758.763\n",
       "2016-04-15  752.785\n",
       "2016-04-14  752.107\n",
       "2016-04-13  741.898\n",
       "2016-04-12  735.796\n",
       "2016-04-11  739.065\n",
       "2016-04-08  740.918\n",
       "2016-04-07  746.657\n",
       "2016-04-06  738.492\n",
       "2016-04-05  746.255\n",
       "2016-04-04   751.15\n",
       "2016-04-01  745.282"
      ]
     },
     "execution_count": 186,
     "metadata": {},
     "output_type": "execute_result"
    }
   ],
   "source": [
    "dff"
   ]
  },
  {
   "cell_type": "code",
   "execution_count": 187,
   "metadata": {
    "collapsed": false
   },
   "outputs": [
    {
     "data": {
      "text/plain": [
       "[<matplotlib.lines.Line2D at 0x10d4d27f0>]"
      ]
     },
     "execution_count": 187,
     "metadata": {},
     "output_type": "execute_result"
    },
    {
     "data": {
      "image/png": "[encoded data removed]",
      "text/plain": [
       "<matplotlib.figure.Figure at 0x10d2ad160>"
      ]
     },
     "metadata": {},
     "output_type": "display_data"
    }
   ],
   "source": [
    "fig, ax = plt.subplots()\n",
    "ax.plot_date(trueDate, dff['GOOG'][trueDate], marker='o', linestyle='-')\n",
    "ax.plot_date(trueDate, df_true['GOOG'][trueDate], marker='o', linestyle='-')\n"
   ]
  },
  {
   "cell_type": "code",
   "execution_count": null,
   "metadata": {
    "collapsed": false
   },
   "outputs": [],
   "source": []
  },
  {
   "cell_type": "code",
   "execution_count": 182,
   "metadata": {
    "collapsed": false,
    "scrolled": true
   },
   "outputs": [],
   "source": [
    "# for date in trueDate:\n",
    "#     for comp in company:\n",
    "#         df[comp][date] = HMM(comp, date-timedelta(71), date-timedelta(1))\n",
    "# df.head(10)"
   ]
  },
  {
   "cell_type": "code",
   "execution_count": 183,
   "metadata": {
    "collapsed": false
   },
   "outputs": [
    {
     "data": {
      "image/png": "[encoded data removed]",
      "text/plain": [
       "<matplotlib.figure.Figure at 0x111733518>"
      ]
     },
     "metadata": {},
     "output_type": "display_data"
    }
   ],
   "source": [
    "import numpy as np\n",
    "import pandas as pd\n",
    "import matplotlib.pyplot as plt\n",
    "\n",
    "fig, ax = plt.subplots()\n",
    "ax.plot_date(trueDate, df['AMZN'][trueDate], marker='o', linestyle='-')\n",
    "ax.plot_date(trueDate, df_true['AMZN'][trueDate], marker='o', linestyle='-')\n",
    "\n",
    "fig.autofmt_xdate()\n",
    "plt.show()\n",
    "\n",
    "# fig, ax = plt.subplots()\n",
    "# ax.plot_date(trueDate, df['GOOG'], marker='o', linestyle='-')\n",
    "# ax.plot_date(preDate, df_true['GOOG'], marker='o', linestyle='-')\n",
    "\n",
    "\n",
    "# fig.autofmt_xdate()\n",
    "# plt.show()"
   ]
  },
  {
   "cell_type": "code",
   "execution_count": 194,
   "metadata": {
    "collapsed": false
   },
   "outputs": [
    {
     "data": {
      "text/html": [
       "<div>\n",
       "<table border=\"1\" class=\"dataframe\">\n",
       "  <thead>\n",
       "    <tr style=\"text-align: right;\">\n",
       "      <th></th>\n",
       "      <th>GOOG</th>\n",
       "    </tr>\n",
       "  </thead>\n",
       "  <tbody>\n",
       "    <tr>\n",
       "      <th>2016-04-20</th>\n",
       "      <td>758</td>\n",
       "    </tr>\n",
       "    <tr>\n",
       "      <th>2016-04-19</th>\n",
       "      <td>769.51</td>\n",
       "    </tr>\n",
       "    <tr>\n",
       "      <th>2016-04-18</th>\n",
       "      <td>760.46</td>\n",
       "    </tr>\n",
       "    <tr>\n",
       "      <th>2016-04-15</th>\n",
       "      <td>753.98</td>\n",
       "    </tr>\n",
       "    <tr>\n",
       "      <th>2016-04-14</th>\n",
       "      <td>754.01</td>\n",
       "    </tr>\n",
       "    <tr>\n",
       "      <th>2016-04-13</th>\n",
       "      <td>749.16</td>\n",
       "    </tr>\n",
       "    <tr>\n",
       "      <th>2016-04-12</th>\n",
       "      <td>738</td>\n",
       "    </tr>\n",
       "    <tr>\n",
       "      <th>2016-04-11</th>\n",
       "      <td>743.02</td>\n",
       "    </tr>\n",
       "    <tr>\n",
       "      <th>2016-04-08</th>\n",
       "      <td>743.97</td>\n",
       "    </tr>\n",
       "    <tr>\n",
       "      <th>2016-04-07</th>\n",
       "      <td>745.37</td>\n",
       "    </tr>\n",
       "    <tr>\n",
       "      <th>2016-04-06</th>\n",
       "      <td>735.77</td>\n",
       "    </tr>\n",
       "    <tr>\n",
       "      <th>2016-04-05</th>\n",
       "      <td>738</td>\n",
       "    </tr>\n",
       "    <tr>\n",
       "      <th>2016-04-04</th>\n",
       "      <td>750.06</td>\n",
       "    </tr>\n",
       "    <tr>\n",
       "      <th>2016-04-01</th>\n",
       "      <td>738.6</td>\n",
       "    </tr>\n",
       "  </tbody>\n",
       "</table>\n",
       "</div>"
      ],
      "text/plain": [
       "              GOOG\n",
       "2016-04-20     758\n",
       "2016-04-19  769.51\n",
       "2016-04-18  760.46\n",
       "2016-04-15  753.98\n",
       "2016-04-14  754.01\n",
       "2016-04-13  749.16\n",
       "2016-04-12     738\n",
       "2016-04-11  743.02\n",
       "2016-04-08  743.97\n",
       "2016-04-07  745.37\n",
       "2016-04-06  735.77\n",
       "2016-04-05     738\n",
       "2016-04-04  750.06\n",
       "2016-04-01   738.6"
      ]
     },
     "execution_count": 194,
     "metadata": {},
     "output_type": "execute_result"
    }
   ],
   "source": [
    "DataFrame(df_true['GOOG'])"
   ]
  },
  {
   "cell_type": "code",
   "execution_count": 195,
   "metadata": {
    "collapsed": false
   },
   "outputs": [
    {
     "data": {
      "text/plain": [
       "[223.72093542304941]"
      ]
     },
     "execution_count": 195,
     "metadata": {},
     "output_type": "execute_result"
    }
   ],
   "source": [
    "MSE(dff,DataFrame(df_true['GOOG']))"
   ]
  },
  {
   "cell_type": "code",
   "execution_count": 196,
   "metadata": {
    "collapsed": false
   },
   "outputs": [
    {
     "data": {
      "text/html": [
       "<div>\n",
       "<table border=\"1\" class=\"dataframe\">\n",
       "  <thead>\n",
       "    <tr style=\"text-align: right;\">\n",
       "      <th></th>\n",
       "      <th>GOOG</th>\n",
       "    </tr>\n",
       "  </thead>\n",
       "  <tbody>\n",
       "    <tr>\n",
       "      <th>2016-04-20</th>\n",
       "      <td>1.7401</td>\n",
       "    </tr>\n",
       "    <tr>\n",
       "      <th>2016-04-19</th>\n",
       "      <td>-2.67432</td>\n",
       "    </tr>\n",
       "    <tr>\n",
       "      <th>2016-04-18</th>\n",
       "      <td>-1.69672</td>\n",
       "    </tr>\n",
       "    <tr>\n",
       "      <th>2016-04-15</th>\n",
       "      <td>-1.19487</td>\n",
       "    </tr>\n",
       "    <tr>\n",
       "      <th>2016-04-14</th>\n",
       "      <td>-1.90314</td>\n",
       "    </tr>\n",
       "    <tr>\n",
       "      <th>2016-04-13</th>\n",
       "      <td>-7.26245</td>\n",
       "    </tr>\n",
       "    <tr>\n",
       "      <th>2016-04-12</th>\n",
       "      <td>-2.20392</td>\n",
       "    </tr>\n",
       "    <tr>\n",
       "      <th>2016-04-11</th>\n",
       "      <td>-3.9553</td>\n",
       "    </tr>\n",
       "    <tr>\n",
       "      <th>2016-04-08</th>\n",
       "      <td>-3.05244</td>\n",
       "    </tr>\n",
       "    <tr>\n",
       "      <th>2016-04-07</th>\n",
       "      <td>1.28651</td>\n",
       "    </tr>\n",
       "    <tr>\n",
       "      <th>2016-04-06</th>\n",
       "      <td>2.72187</td>\n",
       "    </tr>\n",
       "    <tr>\n",
       "      <th>2016-04-05</th>\n",
       "      <td>8.25528</td>\n",
       "    </tr>\n",
       "    <tr>\n",
       "      <th>2016-04-04</th>\n",
       "      <td>1.09028</td>\n",
       "    </tr>\n",
       "    <tr>\n",
       "      <th>2016-04-01</th>\n",
       "      <td>6.68194</td>\n",
       "    </tr>\n",
       "  </tbody>\n",
       "</table>\n",
       "</div>"
      ],
      "text/plain": [
       "               GOOG\n",
       "2016-04-20   1.7401\n",
       "2016-04-19 -2.67432\n",
       "2016-04-18 -1.69672\n",
       "2016-04-15 -1.19487\n",
       "2016-04-14 -1.90314\n",
       "2016-04-13 -7.26245\n",
       "2016-04-12 -2.20392\n",
       "2016-04-11  -3.9553\n",
       "2016-04-08 -3.05244\n",
       "2016-04-07  1.28651\n",
       "2016-04-06  2.72187\n",
       "2016-04-05  8.25528\n",
       "2016-04-04  1.09028\n",
       "2016-04-01  6.68194"
      ]
     },
     "execution_count": 196,
     "metadata": {},
     "output_type": "execute_result"
    }
   ],
   "source": [
    "dff-DataFrame(df_true['GOOG'])"
   ]
  },
  {
   "cell_type": "markdown",
   "metadata": {},
   "source": [
    "$P(Z_n | x_1 \\dots, x_n) $"
   ]
  },
  {
   "cell_type": "code",
   "execution_count": 296,
   "metadata": {
    "collapsed": false
   },
   "outputs": [],
   "source": [
    "Zn_post = model.predict_proba(X)[-1]"
   ]
  },
  {
   "cell_type": "markdown",
   "metadata": {},
   "source": [
    "$P(Z_{n+1}, Z_{n} | X_1, \\dots, X_n) = P(Z_{n+1} | Z_n) * P(Z_n | x_1 \\dots, x_n)$"
   ]
  },
  {
   "cell_type": "code",
   "execution_count": 297,
   "metadata": {
    "collapsed": false
   },
   "outputs": [],
   "source": [
    "Zn1Zn = (model.transmat_.T * Zn_post).T"
   ]
  },
  {
   "cell_type": "markdown",
   "metadata": {},
   "source": [
    "$P(Z_{n+1} | X_1, \\dots, X_n) = \\sum_{i=1}^{4} P(Z_{n+1}, Z_{n} =i | X_1, \\dots, X_n) $"
   ]
  },
  {
   "cell_type": "code",
   "execution_count": 298,
   "metadata": {
    "collapsed": false
   },
   "outputs": [],
   "source": [
    "Zn1_post = np.sum(Zn1Zn, axis = 0)"
   ]
  },
  {
   "cell_type": "code",
   "execution_count": 299,
   "metadata": {
    "collapsed": false
   },
   "outputs": [
    {
     "data": {
      "text/plain": [
       "array([  5.96671768e-05,   3.27469809e-01,   4.40764272e-02,\n",
       "         6.28394096e-01])"
      ]
     },
     "execution_count": 299,
     "metadata": {},
     "output_type": "execute_result"
    }
   ],
   "source": [
    "Zn1_post "
   ]
  },
  {
   "cell_type": "code",
   "execution_count": 30,
   "metadata": {
    "collapsed": false
   },
   "outputs": [],
   "source": [
    "test = quotes_historical_yahoo_ochl(\n",
    "    \"AAPL\", datetime.date(2016, 4, 1), datetime.date(2016, 4, 2))"
   ]
  },
  {
   "cell_type": "code",
   "execution_count": 31,
   "metadata": {
    "collapsed": false
   },
   "outputs": [
    {
     "data": {
      "text/plain": [
       "[(736055.0, 108.779999, 109.989998, 110.0, 108.199997, 25626200.0)]"
      ]
     },
     "execution_count": 31,
     "metadata": {},
     "output_type": "execute_result"
    }
   ],
   "source": [
    "test"
   ]
  }
 ],
 "metadata": {
  "kernelspec": {
   "display_name": "Python 3",
   "language": "python",
   "name": "python3"
  },
  "language_info": {
   "codemirror_mode": {
    "name": "ipython",
    "version": 3
   },
   "file_extension": ".py",
   "mimetype": "text/x-python",
   "name": "python",
   "nbconvert_exporter": "python",
   "pygments_lexer": "ipython3",
   "version": "3.5.1"
  }
 },
 "nbformat": 4,
 "nbformat_minor": 0
}
