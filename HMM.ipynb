{
 "cells": [
  {
   "cell_type": "markdown",
   "metadata": {},
   "source": [
    "! pip install -U --user hmmlearn"
   ]
  },
  {
   "cell_type": "markdown",
   "metadata": {},
   "source": [
    "# Example"
   ]
  },
  {
   "cell_type": "code",
   "execution_count": 136,
   "metadata": {
    "collapsed": false
   },
   "outputs": [
    {
     "name": "stdout",
     "output_type": "stream",
     "text": [
      "Automatically created module for IPython interactive environment\n"
     ]
    }
   ],
   "source": [
    "from __future__ import print_function\n",
    "\n",
    "import datetime\n",
    "from datetime import timedelta\n",
    "import numpy as np\n",
    "from matplotlib import cm, pyplot as plt\n",
    "from matplotlib.dates import YearLocator, MonthLocator\n",
    "try:\n",
    "    from matplotlib.finance import quotes_historical_yahoo_ochl\n",
    "except ImportError:\n",
    "    # For Matplotlib prior to 1.5.\n",
    "    from matplotlib.finance import (\n",
    "        quotes_historical_yahoo as quotes_historical_yahoo_ochl\n",
    "    )\n",
    "\n",
    "from hmmlearn.hmm import GaussianHMM, GMMHMM\n",
    "\n",
    "print(__doc__)"
   ]
  },
  {
   "cell_type": "code",
   "execution_count": 146,
   "metadata": {
    "collapsed": false
   },
   "outputs": [],
   "source": [
    "def HMM(stock, start, end, isPrint = False):\n",
    "    quotes = quotes_historical_yahoo_ochl( stock, start, end)\n",
    "\n",
    "    # Unpack quotes\n",
    "    dates = np.array([q[0] for q in quotes], dtype=int)\n",
    "    close_v = np.array([q[2] for q in quotes])\n",
    "    volume = np.array([q[5] for q in quotes])[1:]\n",
    "    open_v = np.array([q[1] for q in quotes])\n",
    "    high_v = np.array([q[3] for q in quotes])\n",
    "    low_v = np.array([q[4] for q in quotes])\n",
    "\n",
    "    diff = np.diff(close_v)\n",
    "    dates = dates[1:]\n",
    "    gap = close_v[1:] - open_v[0:(len(open_v)-1)]\n",
    "    close_v = close_v[1:]\n",
    "    open_v =open_v[1:]\n",
    "    diff_op = np.diff(open_v)\n",
    "    high_v = high_v[1:]\n",
    "    low_v = low_v[1:]\n",
    "\n",
    "    # quotes\n",
    "#     X = np.column_stack([diff, volume]) \n",
    "    X = np.column_stack([diff,close_v, open_v, high_v,low_v]) \n",
    "    # Make an HMM instance and execute fit\n",
    "    model = GaussianHMM(n_components=4, covariance_type=\"diag\", n_iter=1000).fit(X)\n",
    "    \n",
    "#     model = GMMHMM(n_components=4, n_mix=10, covariance_type='diag').fit(X)\n",
    "    \n",
    "    # Predict the optimal sequence of internal hidden state\n",
    "    hidden_states = model.predict(X)\n",
    "    \n",
    "#     isPrint = False\n",
    "    if isPrint:\n",
    "        print(\"Transition matrix\")\n",
    "        print(model.transmat_)\n",
    "        print()\n",
    "\n",
    "        print(\"Means and vars of each hidden state\")\n",
    "        for i in range(model.n_components):\n",
    "            print(\"{0}th hidden state\".format(i))\n",
    "            print(\"mean = \", model.means_[i])\n",
    "            print(\"var = \", np.diag(model.covars_[i]))\n",
    "            print()\n",
    "            \n",
    "        fig, axs = plt.subplots(model.n_components, sharex=True, sharey=True)\n",
    "        colours = cm.rainbow(np.linspace(0, 1, model.n_components))\n",
    "\n",
    "        #print(colours)\n",
    "        for i, (ax, colour) in enumerate(zip(axs, colours)):\n",
    "            # Use fancy indexing to plot data in each state.\n",
    "            mask = hidden_states == i\n",
    "            ax.plot_date(dates[mask], close_v[mask], \".-\", c=colours[i])\n",
    "            ax.set_title(\"{0}th hidden state\".format(i))\n",
    "\n",
    "            # Format the ticks.\n",
    "            ax.xaxis.set_major_locator(YearLocator())\n",
    "            ax.xaxis.set_minor_locator(MonthLocator())\n",
    "            ax.grid(True)\n",
    "\n",
    "        plt.show()\n",
    "    \n",
    "    \n",
    "    Zn_post = model.predict_proba(X)[-1]\n",
    "    Zn1Zn = (model.transmat_.T * Zn_post).T\n",
    "    Zn1_post = np.sum(Zn1Zn, axis = 0)\n",
    "    \n",
    "    x = np.linspace(-100,100,1000000)\n",
    "    if isPrint:\n",
    "        plt.plot(x,mix_normal(model, x, Zn1_post))\n",
    "    predict = x[np.argmax(mix_normal(model, x, Zn1_post))]\n",
    "    \n",
    "    return predict+close_v[-1]\n",
    "\n",
    "import scipy.stats as sp\n",
    "def mix_normal(model, x,Zn1_post):\n",
    "    r = 0\n",
    "    for i in range(4):\n",
    "        r += sp.norm.pdf(x,model.means_[i][0],model.covars_[i][0,0])*Zn1_post[i]\n",
    "    return r\n"
   ]
  },
  {
   "cell_type": "code",
   "execution_count": 147,
   "metadata": {
    "collapsed": false,
    "scrolled": false
   },
   "outputs": [],
   "source": [
    "def MSE(df, df_true):\n",
    "    output = []\n",
    "    for i in range(df.shape[1]):\n",
    "        output.append(sum((df.ix[:,i]- df_true.ix[:,i])**2)/df.shape[1])\n",
    "    return output"
   ]
  },
  {
   "cell_type": "markdown",
   "metadata": {},
   "source": [
    "# GOOGLE"
   ]
  },
  {
   "cell_type": "code",
   "execution_count": 148,
   "metadata": {
    "collapsed": false
   },
   "outputs": [
    {
     "name": "stdout",
     "output_type": "stream",
     "text": [
      "Transition matrix\n",
      "[[  5.97322782e-001   3.37265391e-070   2.26504412e-001   1.76172806e-001]\n",
      " [  1.63481913e-001   6.61148205e-001   1.48653467e-112   1.75369882e-001]\n",
      " [  4.14367163e-001   3.89742239e-127   5.85632837e-001   1.18307643e-059]\n",
      " [  1.58617872e-001   1.07485328e-001   5.24356978e-103   7.33896800e-001]]\n",
      "\n",
      "Means and vars of each hidden state\n",
      "0th hidden state\n",
      "mean =  [ -2.46704452e-01   7.07464719e+02   7.09663094e+02   7.16364628e+02\n",
      "   6.99162074e+02]\n",
      "var =  [ 134.73265729   44.80461488   85.16235532   56.74368535   40.84604464]\n",
      "\n",
      "1th hidden state\n",
      "mean =  [  -1.36546886  747.27599768  755.41886271  761.71943204  741.80301404]\n",
      "var =  [ 247.03408826  111.02988443  220.344372    190.81141233  152.10580427]\n",
      "\n",
      "2th hidden state\n",
      "mean =  [  -4.18220323  689.2739909   688.09970582  699.84474058  678.79718911]\n",
      "var =  [  95.52137999   52.2268439   120.06301498   49.91114654   65.1318673 ]\n",
      "\n",
      "3th hidden state\n",
      "mean =  [   3.97350273  733.7579354   730.98678804  738.35089801  726.13863504]\n",
      "var =  [ 112.51246535   59.73410605   41.96459397   40.88568693   58.48179112]\n",
      "\n"
     ]
    },
    {
     "data": {
      "image/png": "[encoded data removed]",
      "text/plain": [
       "<matplotlib.figure.Figure at 0x116002470>"
      ]
     },
     "metadata": {},
     "output_type": "display_data"
    },
    {
     "data": {
      "text/plain": [
       "751.85887494890198"
      ]
     },
     "execution_count": 148,
     "metadata": {},
     "output_type": "execute_result"
    },
    {
     "data": {
      "image/png": "[encoded data removed]",
      "text/plain": [
       "<matplotlib.figure.Figure at 0x10ecd1390>"
      ]
     },
     "metadata": {},
     "output_type": "display_data"
    }
   ],
   "source": [
    "HMM('GOOG', datetime.datetime(2016,1,1), datetime.datetime(2016,4,1),True)"
   ]
  },
  {
   "cell_type": "markdown",
   "metadata": {},
   "source": [
    "# LinkedIn"
   ]
  },
  {
   "cell_type": "code",
   "execution_count": 121,
   "metadata": {
    "collapsed": false,
    "scrolled": false
   },
   "outputs": [],
   "source": [
    "# HMM('LNKD', datetime.datetime(2016,3,31)-timedelta(211), datetime.datetime(2016,3,31),True)"
   ]
  },
  {
   "cell_type": "markdown",
   "metadata": {},
   "source": [
    "# 7 Company"
   ]
  },
  {
   "cell_type": "code",
   "execution_count": 165,
   "metadata": {
    "collapsed": true
   },
   "outputs": [],
   "source": [
    "import pandas as pd\n",
    "from pandas import Series, DataFrame\n",
    "from datetime import timedelta"
   ]
  },
  {
   "cell_type": "code",
   "execution_count": 166,
   "metadata": {
    "collapsed": false
   },
   "outputs": [],
   "source": [
    "company = [\"AAPL\",\"FB\",\"LNKD\",\"AMZN\",\"GOOG\",\"MSFT\",\"BABA\"]\n",
    "numdays = 30\n",
    "base = datetime.datetime(2016,4,30)\n",
    "preDate = [base - datetime.timedelta(days=x) for x in range(0, numdays)]"
   ]
  },
  {
   "cell_type": "code",
   "execution_count": 167,
   "metadata": {
    "collapsed": false
   },
   "outputs": [
    {
     "data": {
      "text/html": [
       "<div>\n",
       "<table border=\"1\" class=\"dataframe\">\n",
       "  <thead>\n",
       "    <tr style=\"text-align: right;\">\n",
       "      <th></th>\n",
       "      <th>AAPL</th>\n",
       "      <th>FB</th>\n",
       "      <th>LNKD</th>\n",
       "      <th>AMZN</th>\n",
       "      <th>GOOG</th>\n",
       "      <th>MSFT</th>\n",
       "      <th>BABA</th>\n",
       "    </tr>\n",
       "  </thead>\n",
       "  <tbody>\n",
       "    <tr>\n",
       "      <th>2016-04-30</th>\n",
       "      <td>None</td>\n",
       "      <td>None</td>\n",
       "      <td>None</td>\n",
       "      <td>None</td>\n",
       "      <td>None</td>\n",
       "      <td>None</td>\n",
       "      <td>None</td>\n",
       "    </tr>\n",
       "    <tr>\n",
       "      <th>2016-04-29</th>\n",
       "      <td>93.74</td>\n",
       "      <td>117.58</td>\n",
       "      <td>125.31</td>\n",
       "      <td>659.59</td>\n",
       "      <td>693.01</td>\n",
       "      <td>49.87</td>\n",
       "      <td>76.94</td>\n",
       "    </tr>\n",
       "    <tr>\n",
       "      <th>2016-04-28</th>\n",
       "      <td>94.83</td>\n",
       "      <td>116.73</td>\n",
       "      <td>123.01</td>\n",
       "      <td>602</td>\n",
       "      <td>691.02</td>\n",
       "      <td>49.9</td>\n",
       "      <td>76.4</td>\n",
       "    </tr>\n",
       "    <tr>\n",
       "      <th>2016-04-27</th>\n",
       "      <td>97.82</td>\n",
       "      <td>108.89</td>\n",
       "      <td>118.85</td>\n",
       "      <td>606.57</td>\n",
       "      <td>705.84</td>\n",
       "      <td>50.94</td>\n",
       "      <td>77.65</td>\n",
       "    </tr>\n",
       "    <tr>\n",
       "      <th>2016-04-26</th>\n",
       "      <td>104.35</td>\n",
       "      <td>108.76</td>\n",
       "      <td>122.53</td>\n",
       "      <td>616.88</td>\n",
       "      <td>708.14</td>\n",
       "      <td>51.44</td>\n",
       "      <td>78.61</td>\n",
       "    </tr>\n",
       "  </tbody>\n",
       "</table>\n",
       "</div>"
      ],
      "text/plain": [
       "              AAPL      FB    LNKD    AMZN    GOOG   MSFT   BABA\n",
       "2016-04-30    None    None    None    None    None   None   None\n",
       "2016-04-29   93.74  117.58  125.31  659.59  693.01  49.87  76.94\n",
       "2016-04-28   94.83  116.73  123.01     602  691.02   49.9   76.4\n",
       "2016-04-27   97.82  108.89  118.85  606.57  705.84  50.94  77.65\n",
       "2016-04-26  104.35  108.76  122.53  616.88  708.14  51.44  78.61"
      ]
     },
     "execution_count": 167,
     "metadata": {},
     "output_type": "execute_result"
    }
   ],
   "source": [
    "# true data\n",
    "df_true =DataFrame(index = preDate, columns = company)\n",
    "for date in preDate:\n",
    "    for comp in company:\n",
    "        true = quotes_historical_yahoo_ochl(comp, date, date)\n",
    "        if true is None:\n",
    "            df_true[comp][date] = None\n",
    "        else:\n",
    "#             print()\n",
    "            df_true[comp][date] = true[0][2]\n",
    "            \n",
    "\n",
    "df_true.head()"
   ]
  },
  {
   "cell_type": "code",
   "execution_count": 168,
   "metadata": {
    "collapsed": false
   },
   "outputs": [],
   "source": [
    "trueDate = np.array([preDate[i] for i,check in enumerate(df_true.ix[:,1]) if not check is None])\n",
    "df_true= df_true.ix[trueDate,:]\n",
    "df = DataFrame(index = trueDate, columns = company)"
   ]
  },
  {
   "cell_type": "code",
   "execution_count": 169,
   "metadata": {
    "collapsed": false
   },
   "outputs": [
    {
     "data": {
      "text/plain": [
       "array([datetime.datetime(2016, 4, 29, 0, 0),\n",
       "       datetime.datetime(2016, 4, 28, 0, 0)], dtype=object)"
      ]
     },
     "execution_count": 169,
     "metadata": {},
     "output_type": "execute_result"
    }
   ],
   "source": [
    "trueDate[0:2]"
   ]
  },
  {
   "cell_type": "code",
   "execution_count": 170,
   "metadata": {
    "collapsed": false
   },
   "outputs": [],
   "source": [
    "#test\n",
    "\n",
    "dff = DataFrame(index = trueDate, columns = ['GOOG'])\n",
    "for date in trueDate:\n",
    "    dff['GOOG'][date] = HMM('GOOG', date-timedelta(211), date-timedelta(1))\n"
   ]
  },
  {
   "cell_type": "code",
   "execution_count": 172,
   "metadata": {
    "collapsed": false
   },
   "outputs": [
    {
     "data": {
      "text/plain": [
       "[<matplotlib.lines.Line2D at 0x1110933c8>]"
      ]
     },
     "execution_count": 172,
     "metadata": {},
     "output_type": "execute_result"
    },
    {
     "data": {
      "image/png": "[encoded data removed]",
      "text/plain": [
       "<matplotlib.figure.Figure at 0x1149b41d0>"
      ]
     },
     "metadata": {},
     "output_type": "display_data"
    }
   ],
   "source": [
    "fig, ax = plt.subplots()\n",
    "ax.plot_date(trueDate, dff['GOOG'][trueDate], marker='o', linestyle='-')\n",
    "ax.plot_date(trueDate, df_true['GOOG'][trueDate], marker='o', linestyle='-')"
   ]
  },
  {
   "cell_type": "code",
   "execution_count": 173,
   "metadata": {
    "collapsed": false,
    "scrolled": false
   },
   "outputs": [
    {
     "data": {
      "text/html": [
       "<div>\n",
       "<table border=\"1\" class=\"dataframe\">\n",
       "  <thead>\n",
       "    <tr style=\"text-align: right;\">\n",
       "      <th></th>\n",
       "      <th>AAPL</th>\n",
       "      <th>FB</th>\n",
       "      <th>LNKD</th>\n",
       "      <th>AMZN</th>\n",
       "      <th>GOOG</th>\n",
       "      <th>MSFT</th>\n",
       "      <th>BABA</th>\n",
       "    </tr>\n",
       "  </thead>\n",
       "  <tbody>\n",
       "    <tr>\n",
       "      <th>2016-04-29</th>\n",
       "      <td>94.6461</td>\n",
       "      <td>117.004</td>\n",
       "      <td>121.816</td>\n",
       "      <td>604.128</td>\n",
       "      <td>691.033</td>\n",
       "      <td>49.7645</td>\n",
       "      <td>76.4413</td>\n",
       "    </tr>\n",
       "    <tr>\n",
       "      <th>2016-04-28</th>\n",
       "      <td>97.6813</td>\n",
       "      <td>108.986</td>\n",
       "      <td>117.562</td>\n",
       "      <td>608.809</td>\n",
       "      <td>706.128</td>\n",
       "      <td>50.8377</td>\n",
       "      <td>77.7231</td>\n",
       "    </tr>\n",
       "    <tr>\n",
       "      <th>2016-04-27</th>\n",
       "      <td>104.259</td>\n",
       "      <td>108.846</td>\n",
       "      <td>121.284</td>\n",
       "      <td>619.353</td>\n",
       "      <td>708.515</td>\n",
       "      <td>51.4653</td>\n",
       "      <td>78.7103</td>\n",
       "    </tr>\n",
       "    <tr>\n",
       "      <th>2016-04-26</th>\n",
       "      <td>105.01</td>\n",
       "      <td>110.218</td>\n",
       "      <td>119.175</td>\n",
       "      <td>628.909</td>\n",
       "      <td>724.217</td>\n",
       "      <td>52.1455</td>\n",
       "      <td>78.9491</td>\n",
       "    </tr>\n",
       "    <tr>\n",
       "      <th>2016-04-25</th>\n",
       "      <td>105.619</td>\n",
       "      <td>110.815</td>\n",
       "      <td>118.101</td>\n",
       "      <td>623.099</td>\n",
       "      <td>719.739</td>\n",
       "      <td>51.8187</td>\n",
       "      <td>79.9469</td>\n",
       "    </tr>\n",
       "    <tr>\n",
       "      <th>2016-04-22</th>\n",
       "      <td>105.903</td>\n",
       "      <td>113.73</td>\n",
       "      <td>119.105</td>\n",
       "      <td>633.871</td>\n",
       "      <td>759.611</td>\n",
       "      <td>55.8595</td>\n",
       "      <td>80.8541</td>\n",
       "    </tr>\n",
       "    <tr>\n",
       "      <th>2016-04-21</th>\n",
       "      <td>107.09</td>\n",
       "      <td>112.689</td>\n",
       "      <td>115.878</td>\n",
       "      <td>635.925</td>\n",
       "      <td>753.063</td>\n",
       "      <td>55.6677</td>\n",
       "      <td>81.3909</td>\n",
       "    </tr>\n",
       "    <tr>\n",
       "      <th>2016-04-20</th>\n",
       "      <td>106.857</td>\n",
       "      <td>112.538</td>\n",
       "      <td>113.913</td>\n",
       "      <td>630.721</td>\n",
       "      <td>754.016</td>\n",
       "      <td>56.4817</td>\n",
       "      <td>79.6061</td>\n",
       "    </tr>\n",
       "    <tr>\n",
       "      <th>2016-04-19</th>\n",
       "      <td>107.306</td>\n",
       "      <td>110.663</td>\n",
       "      <td>116.514</td>\n",
       "      <td>638.415</td>\n",
       "      <td>766.951</td>\n",
       "      <td>56.5543</td>\n",
       "      <td>79.1473</td>\n",
       "    </tr>\n",
       "    <tr>\n",
       "      <th>2016-04-18</th>\n",
       "      <td>109.731</td>\n",
       "      <td>109.833</td>\n",
       "      <td>115.066</td>\n",
       "      <td>628.69</td>\n",
       "      <td>759.537</td>\n",
       "      <td>55.7323</td>\n",
       "      <td>79.1097</td>\n",
       "    </tr>\n",
       "  </tbody>\n",
       "</table>\n",
       "</div>"
      ],
      "text/plain": [
       "               AAPL       FB     LNKD     AMZN     GOOG     MSFT     BABA\n",
       "2016-04-29  94.6461  117.004  121.816  604.128  691.033  49.7645  76.4413\n",
       "2016-04-28  97.6813  108.986  117.562  608.809  706.128  50.8377  77.7231\n",
       "2016-04-27  104.259  108.846  121.284  619.353  708.515  51.4653  78.7103\n",
       "2016-04-26   105.01  110.218  119.175  628.909  724.217  52.1455  78.9491\n",
       "2016-04-25  105.619  110.815  118.101  623.099  719.739  51.8187  79.9469\n",
       "2016-04-22  105.903   113.73  119.105  633.871  759.611  55.8595  80.8541\n",
       "2016-04-21   107.09  112.689  115.878  635.925  753.063  55.6677  81.3909\n",
       "2016-04-20  106.857  112.538  113.913  630.721  754.016  56.4817  79.6061\n",
       "2016-04-19  107.306  110.663  116.514  638.415  766.951  56.5543  79.1473\n",
       "2016-04-18  109.731  109.833  115.066   628.69  759.537  55.7323  79.1097"
      ]
     },
     "execution_count": 173,
     "metadata": {},
     "output_type": "execute_result"
    }
   ],
   "source": [
    "for date in trueDate:\n",
    "    for comp in company:\n",
    "        df[comp][date] = HMM(comp, date-timedelta(211), date-timedelta(1))\n",
    "df.head(10)"
   ]
  },
  {
   "cell_type": "code",
   "execution_count": 131,
   "metadata": {
    "collapsed": false
   },
   "outputs": [],
   "source": [
    "df.to_csv('predict_hmm_5.csv')"
   ]
  },
  {
   "cell_type": "code",
   "execution_count": 174,
   "metadata": {
    "collapsed": false
   },
   "outputs": [
    {
     "data": {
      "text/html": [
       "<div>\n",
       "<table border=\"1\" class=\"dataframe\">\n",
       "  <thead>\n",
       "    <tr style=\"text-align: right;\">\n",
       "      <th></th>\n",
       "      <th>AAPL</th>\n",
       "      <th>FB</th>\n",
       "      <th>LNKD</th>\n",
       "      <th>AMZN</th>\n",
       "      <th>GOOG</th>\n",
       "      <th>MSFT</th>\n",
       "      <th>BABA</th>\n",
       "    </tr>\n",
       "  </thead>\n",
       "  <tbody>\n",
       "    <tr>\n",
       "      <th>2016-04-29</th>\n",
       "      <td>93.74</td>\n",
       "      <td>117.58</td>\n",
       "      <td>125.31</td>\n",
       "      <td>659.59</td>\n",
       "      <td>693.01</td>\n",
       "      <td>49.87</td>\n",
       "      <td>76.94</td>\n",
       "    </tr>\n",
       "    <tr>\n",
       "      <th>2016-04-28</th>\n",
       "      <td>94.83</td>\n",
       "      <td>116.73</td>\n",
       "      <td>123.01</td>\n",
       "      <td>602</td>\n",
       "      <td>691.02</td>\n",
       "      <td>49.9</td>\n",
       "      <td>76.4</td>\n",
       "    </tr>\n",
       "    <tr>\n",
       "      <th>2016-04-27</th>\n",
       "      <td>97.82</td>\n",
       "      <td>108.89</td>\n",
       "      <td>118.85</td>\n",
       "      <td>606.57</td>\n",
       "      <td>705.84</td>\n",
       "      <td>50.94</td>\n",
       "      <td>77.65</td>\n",
       "    </tr>\n",
       "    <tr>\n",
       "      <th>2016-04-26</th>\n",
       "      <td>104.35</td>\n",
       "      <td>108.76</td>\n",
       "      <td>122.53</td>\n",
       "      <td>616.88</td>\n",
       "      <td>708.14</td>\n",
       "      <td>51.44</td>\n",
       "      <td>78.61</td>\n",
       "    </tr>\n",
       "    <tr>\n",
       "      <th>2016-04-25</th>\n",
       "      <td>105.08</td>\n",
       "      <td>110.1</td>\n",
       "      <td>120.48</td>\n",
       "      <td>626.2</td>\n",
       "      <td>723.15</td>\n",
       "      <td>52.11</td>\n",
       "      <td>78.84</td>\n",
       "    </tr>\n",
       "    <tr>\n",
       "      <th>2016-04-22</th>\n",
       "      <td>105.68</td>\n",
       "      <td>110.56</td>\n",
       "      <td>119.45</td>\n",
       "      <td>620.5</td>\n",
       "      <td>718.77</td>\n",
       "      <td>51.78</td>\n",
       "      <td>79.89</td>\n",
       "    </tr>\n",
       "    <tr>\n",
       "      <th>2016-04-21</th>\n",
       "      <td>105.97</td>\n",
       "      <td>113.44</td>\n",
       "      <td>120.46</td>\n",
       "      <td>631</td>\n",
       "      <td>759.14</td>\n",
       "      <td>55.78</td>\n",
       "      <td>80.78</td>\n",
       "    </tr>\n",
       "    <tr>\n",
       "      <th>2016-04-20</th>\n",
       "      <td>107.13</td>\n",
       "      <td>112.42</td>\n",
       "      <td>117.32</td>\n",
       "      <td>632.99</td>\n",
       "      <td>752.67</td>\n",
       "      <td>55.59</td>\n",
       "      <td>81.21</td>\n",
       "    </tr>\n",
       "    <tr>\n",
       "      <th>2016-04-19</th>\n",
       "      <td>106.91</td>\n",
       "      <td>112.29</td>\n",
       "      <td>115.42</td>\n",
       "      <td>627.9</td>\n",
       "      <td>753.93</td>\n",
       "      <td>56.39</td>\n",
       "      <td>79.46</td>\n",
       "    </tr>\n",
       "    <tr>\n",
       "      <th>2016-04-18</th>\n",
       "      <td>107.48</td>\n",
       "      <td>110.45</td>\n",
       "      <td>118</td>\n",
       "      <td>635.35</td>\n",
       "      <td>766.61</td>\n",
       "      <td>56.46</td>\n",
       "      <td>79.01</td>\n",
       "    </tr>\n",
       "  </tbody>\n",
       "</table>\n",
       "</div>"
      ],
      "text/plain": [
       "              AAPL      FB    LNKD    AMZN    GOOG   MSFT   BABA\n",
       "2016-04-29   93.74  117.58  125.31  659.59  693.01  49.87  76.94\n",
       "2016-04-28   94.83  116.73  123.01     602  691.02   49.9   76.4\n",
       "2016-04-27   97.82  108.89  118.85  606.57  705.84  50.94  77.65\n",
       "2016-04-26  104.35  108.76  122.53  616.88  708.14  51.44  78.61\n",
       "2016-04-25  105.08   110.1  120.48   626.2  723.15  52.11  78.84\n",
       "2016-04-22  105.68  110.56  119.45   620.5  718.77  51.78  79.89\n",
       "2016-04-21  105.97  113.44  120.46     631  759.14  55.78  80.78\n",
       "2016-04-20  107.13  112.42  117.32  632.99  752.67  55.59  81.21\n",
       "2016-04-19  106.91  112.29  115.42   627.9  753.93  56.39  79.46\n",
       "2016-04-18  107.48  110.45     118  635.35  766.61  56.46  79.01"
      ]
     },
     "execution_count": 174,
     "metadata": {},
     "output_type": "execute_result"
    }
   ],
   "source": [
    "df_true.head(10)"
   ]
  },
  {
   "cell_type": "code",
   "execution_count": 175,
   "metadata": {
    "collapsed": false
   },
   "outputs": [
    {
     "data": {
      "image/png": "[encoded data removed]",
      "text/plain": [
       "<matplotlib.figure.Figure at 0x10ee2ac18>"
      ]
     },
     "metadata": {},
     "output_type": "display_data"
    }
   ],
   "source": [
    "import numpy as np\n",
    "import pandas as pd\n",
    "import matplotlib.pyplot as plt\n",
    "\n",
    "fig, ax = plt.subplots()\n",
    "ax.plot_date(trueDate, df['AMZN'][trueDate], marker='o', linestyle='-')\n",
    "ax.plot_date(trueDate, df_true['AMZN'][trueDate], marker='o', linestyle='-')\n",
    "\n",
    "fig.autofmt_xdate()\n",
    "plt.show()"
   ]
  },
  {
   "cell_type": "code",
   "execution_count": 176,
   "metadata": {
    "collapsed": false
   },
   "outputs": [
    {
     "data": {
      "text/html": [
       "<div>\n",
       "<table border=\"1\" class=\"dataframe\">\n",
       "  <thead>\n",
       "    <tr style=\"text-align: right;\">\n",
       "      <th></th>\n",
       "      <th>GOOG</th>\n",
       "    </tr>\n",
       "  </thead>\n",
       "  <tbody>\n",
       "    <tr>\n",
       "      <th>2016-04-29</th>\n",
       "      <td>693.01</td>\n",
       "    </tr>\n",
       "    <tr>\n",
       "      <th>2016-04-28</th>\n",
       "      <td>691.02</td>\n",
       "    </tr>\n",
       "    <tr>\n",
       "      <th>2016-04-27</th>\n",
       "      <td>705.84</td>\n",
       "    </tr>\n",
       "    <tr>\n",
       "      <th>2016-04-26</th>\n",
       "      <td>708.14</td>\n",
       "    </tr>\n",
       "    <tr>\n",
       "      <th>2016-04-25</th>\n",
       "      <td>723.15</td>\n",
       "    </tr>\n",
       "    <tr>\n",
       "      <th>2016-04-22</th>\n",
       "      <td>718.77</td>\n",
       "    </tr>\n",
       "    <tr>\n",
       "      <th>2016-04-21</th>\n",
       "      <td>759.14</td>\n",
       "    </tr>\n",
       "    <tr>\n",
       "      <th>2016-04-20</th>\n",
       "      <td>752.67</td>\n",
       "    </tr>\n",
       "    <tr>\n",
       "      <th>2016-04-19</th>\n",
       "      <td>753.93</td>\n",
       "    </tr>\n",
       "    <tr>\n",
       "      <th>2016-04-18</th>\n",
       "      <td>766.61</td>\n",
       "    </tr>\n",
       "    <tr>\n",
       "      <th>2016-04-15</th>\n",
       "      <td>759</td>\n",
       "    </tr>\n",
       "    <tr>\n",
       "      <th>2016-04-14</th>\n",
       "      <td>753.2</td>\n",
       "    </tr>\n",
       "    <tr>\n",
       "      <th>2016-04-13</th>\n",
       "      <td>751.72</td>\n",
       "    </tr>\n",
       "    <tr>\n",
       "      <th>2016-04-12</th>\n",
       "      <td>743.09</td>\n",
       "    </tr>\n",
       "    <tr>\n",
       "      <th>2016-04-11</th>\n",
       "      <td>736.1</td>\n",
       "    </tr>\n",
       "    <tr>\n",
       "      <th>2016-04-08</th>\n",
       "      <td>739.15</td>\n",
       "    </tr>\n",
       "    <tr>\n",
       "      <th>2016-04-07</th>\n",
       "      <td>740.28</td>\n",
       "    </tr>\n",
       "    <tr>\n",
       "      <th>2016-04-06</th>\n",
       "      <td>745.69</td>\n",
       "    </tr>\n",
       "    <tr>\n",
       "      <th>2016-04-05</th>\n",
       "      <td>737.8</td>\n",
       "    </tr>\n",
       "    <tr>\n",
       "      <th>2016-04-04</th>\n",
       "      <td>745.29</td>\n",
       "    </tr>\n",
       "    <tr>\n",
       "      <th>2016-04-01</th>\n",
       "      <td>749.91</td>\n",
       "    </tr>\n",
       "  </tbody>\n",
       "</table>\n",
       "</div>"
      ],
      "text/plain": [
       "              GOOG\n",
       "2016-04-29  693.01\n",
       "2016-04-28  691.02\n",
       "2016-04-27  705.84\n",
       "2016-04-26  708.14\n",
       "2016-04-25  723.15\n",
       "2016-04-22  718.77\n",
       "2016-04-21  759.14\n",
       "2016-04-20  752.67\n",
       "2016-04-19  753.93\n",
       "2016-04-18  766.61\n",
       "2016-04-15     759\n",
       "2016-04-14   753.2\n",
       "2016-04-13  751.72\n",
       "2016-04-12  743.09\n",
       "2016-04-11   736.1\n",
       "2016-04-08  739.15\n",
       "2016-04-07  740.28\n",
       "2016-04-06  745.69\n",
       "2016-04-05   737.8\n",
       "2016-04-04  745.29\n",
       "2016-04-01  749.91"
      ]
     },
     "execution_count": 176,
     "metadata": {},
     "output_type": "execute_result"
    }
   ],
   "source": [
    "DataFrame(df_true['GOOG'])"
   ]
  },
  {
   "cell_type": "code",
   "execution_count": null,
   "metadata": {
    "collapsed": false
   },
   "outputs": [],
   "source": []
  },
  {
   "cell_type": "code",
   "execution_count": 177,
   "metadata": {
    "collapsed": false,
    "scrolled": true
   },
   "outputs": [
    {
     "data": {
      "text/plain": [
       "[11.414535729577549,\n",
       " 16.172048745092535,\n",
       " 30.573684773793794,\n",
       " 640.93834953312762,\n",
       " 399.20437429951738,\n",
       " 3.164896976757094,\n",
       " 2.7810301809675053]"
      ]
     },
     "execution_count": 177,
     "metadata": {},
     "output_type": "execute_result"
    }
   ],
   "source": [
    "MSE(df, df_true)"
   ]
  },
  {
   "cell_type": "code",
   "execution_count": 116,
   "metadata": {
    "collapsed": false
   },
   "outputs": [
    {
     "data": {
      "text/html": [
       "<div>\n",
       "<table border=\"1\" class=\"dataframe\">\n",
       "  <thead>\n",
       "    <tr style=\"text-align: right;\">\n",
       "      <th></th>\n",
       "      <th>GOOG</th>\n",
       "    </tr>\n",
       "  </thead>\n",
       "  <tbody>\n",
       "    <tr>\n",
       "      <th>2016-04-29</th>\n",
       "      <td>2.13011</td>\n",
       "    </tr>\n",
       "    <tr>\n",
       "      <th>2016-04-28</th>\n",
       "      <td>-0.453881</td>\n",
       "    </tr>\n",
       "    <tr>\n",
       "      <th>2016-04-27</th>\n",
       "      <td>2.71454</td>\n",
       "    </tr>\n",
       "    <tr>\n",
       "      <th>2016-04-26</th>\n",
       "      <td>-0.623657</td>\n",
       "    </tr>\n",
       "    <tr>\n",
       "      <th>2016-04-25</th>\n",
       "      <td>1.43134</td>\n",
       "    </tr>\n",
       "    <tr>\n",
       "      <th>2016-04-22</th>\n",
       "      <td>34.6187</td>\n",
       "    </tr>\n",
       "    <tr>\n",
       "      <th>2016-04-21</th>\n",
       "      <td>-1.09752</td>\n",
       "    </tr>\n",
       "    <tr>\n",
       "      <th>2016-04-20</th>\n",
       "      <td>-2.34611</td>\n",
       "    </tr>\n",
       "    <tr>\n",
       "      <th>2016-04-19</th>\n",
       "      <td>-1.01372</td>\n",
       "    </tr>\n",
       "    <tr>\n",
       "      <th>2016-04-18</th>\n",
       "      <td>0.18848</td>\n",
       "    </tr>\n",
       "    <tr>\n",
       "      <th>2016-04-15</th>\n",
       "      <td>-0.439068</td>\n",
       "    </tr>\n",
       "    <tr>\n",
       "      <th>2016-04-14</th>\n",
       "      <td>-0.618537</td>\n",
       "    </tr>\n",
       "    <tr>\n",
       "      <th>2016-04-13</th>\n",
       "      <td>-4.80644</td>\n",
       "    </tr>\n",
       "    <tr>\n",
       "      <th>2016-04-12</th>\n",
       "      <td>-0.980523</td>\n",
       "    </tr>\n",
       "    <tr>\n",
       "      <th>2016-04-11</th>\n",
       "      <td>-2.80709</td>\n",
       "    </tr>\n",
       "    <tr>\n",
       "      <th>2016-04-08</th>\n",
       "      <td>-2.54384</td>\n",
       "    </tr>\n",
       "    <tr>\n",
       "      <th>2016-04-07</th>\n",
       "      <td>1.13131</td>\n",
       "    </tr>\n",
       "    <tr>\n",
       "      <th>2016-04-06</th>\n",
       "      <td>2.37207</td>\n",
       "    </tr>\n",
       "    <tr>\n",
       "      <th>2016-04-05</th>\n",
       "      <td>7.34048</td>\n",
       "    </tr>\n",
       "    <tr>\n",
       "      <th>2016-04-04</th>\n",
       "      <td>-0.188725</td>\n",
       "    </tr>\n",
       "    <tr>\n",
       "      <th>2016-04-01</th>\n",
       "      <td>6.46474</td>\n",
       "    </tr>\n",
       "  </tbody>\n",
       "</table>\n",
       "</div>"
      ],
      "text/plain": [
       "                GOOG\n",
       "2016-04-29   2.13011\n",
       "2016-04-28 -0.453881\n",
       "2016-04-27   2.71454\n",
       "2016-04-26 -0.623657\n",
       "2016-04-25   1.43134\n",
       "2016-04-22   34.6187\n",
       "2016-04-21  -1.09752\n",
       "2016-04-20  -2.34611\n",
       "2016-04-19  -1.01372\n",
       "2016-04-18   0.18848\n",
       "2016-04-15 -0.439068\n",
       "2016-04-14 -0.618537\n",
       "2016-04-13  -4.80644\n",
       "2016-04-12 -0.980523\n",
       "2016-04-11  -2.80709\n",
       "2016-04-08  -2.54384\n",
       "2016-04-07   1.13131\n",
       "2016-04-06   2.37207\n",
       "2016-04-05   7.34048\n",
       "2016-04-04 -0.188725\n",
       "2016-04-01   6.46474"
      ]
     },
     "execution_count": 116,
     "metadata": {},
     "output_type": "execute_result"
    }
   ],
   "source": [
    "dff-DataFrame(df_true['GOOG'])"
   ]
  },
  {
   "cell_type": "markdown",
   "metadata": {},
   "source": [
    "$P(Z_n | x_1 \\dots, x_n) $"
   ]
  },
  {
   "cell_type": "code",
   "execution_count": 296,
   "metadata": {
    "collapsed": false
   },
   "outputs": [],
   "source": [
    "Zn_post = model.predict_proba(X)[-1]"
   ]
  },
  {
   "cell_type": "markdown",
   "metadata": {},
   "source": [
    "$P(Z_{n+1}, Z_{n} | X_1, \\dots, X_n) = P(Z_{n+1} | Z_n) * P(Z_n | x_1 \\dots, x_n)$"
   ]
  },
  {
   "cell_type": "code",
   "execution_count": 297,
   "metadata": {
    "collapsed": false
   },
   "outputs": [],
   "source": [
    "Zn1Zn = (model.transmat_.T * Zn_post).T"
   ]
  },
  {
   "cell_type": "markdown",
   "metadata": {},
   "source": [
    "$P(Z_{n+1} | X_1, \\dots, X_n) = \\sum_{i=1}^{4} P(Z_{n+1}, Z_{n} =i | X_1, \\dots, X_n) $"
   ]
  },
  {
   "cell_type": "code",
   "execution_count": 298,
   "metadata": {
    "collapsed": false
   },
   "outputs": [],
   "source": [
    "Zn1_post = np.sum(Zn1Zn, axis = 0)"
   ]
  },
  {
   "cell_type": "code",
   "execution_count": 299,
   "metadata": {
    "collapsed": false
   },
   "outputs": [
    {
     "data": {
      "text/plain": [
       "array([  5.96671768e-05,   3.27469809e-01,   4.40764272e-02,\n",
       "         6.28394096e-01])"
      ]
     },
     "execution_count": 299,
     "metadata": {},
     "output_type": "execute_result"
    }
   ],
   "source": [
    "Zn1_post "
   ]
  },
  {
   "cell_type": "code",
   "execution_count": 30,
   "metadata": {
    "collapsed": false
   },
   "outputs": [],
   "source": [
    "test = quotes_historical_yahoo_ochl(\n",
    "    \"AAPL\", datetime.date(2016, 4, 1), datetime.date(2016, 4, 2))"
   ]
  },
  {
   "cell_type": "code",
   "execution_count": 31,
   "metadata": {
    "collapsed": false
   },
   "outputs": [
    {
     "data": {
      "text/plain": [
       "[(736055.0, 108.779999, 109.989998, 110.0, 108.199997, 25626200.0)]"
      ]
     },
     "execution_count": 31,
     "metadata": {},
     "output_type": "execute_result"
    }
   ],
   "source": [
    "test"
   ]
  }
 ],
 "metadata": {
  "kernelspec": {
   "display_name": "Python 3",
   "language": "python",
   "name": "python3"
  },
  "language_info": {
   "codemirror_mode": {
    "name": "ipython",
    "version": 3
   },
   "file_extension": ".py",
   "mimetype": "text/x-python",
   "name": "python",
   "nbconvert_exporter": "python",
   "pygments_lexer": "ipython3",
   "version": "3.5.1"
  }
 },
 "nbformat": 4,
 "nbformat_minor": 0
}
