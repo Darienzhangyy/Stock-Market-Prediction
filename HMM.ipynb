{
 "cells": [
  {
   "cell_type": "markdown",
   "metadata": {},
   "source": [
    "! pip install -U --user hmmlearn"
   ]
  },
  {
   "cell_type": "markdown",
   "metadata": {},
   "source": [
    "# Example"
   ]
  },
  {
   "cell_type": "code",
   "execution_count": 101,
   "metadata": {
    "collapsed": false
   },
   "outputs": [
    {
     "name": "stdout",
     "output_type": "stream",
     "text": [
      "Automatically created module for IPython interactive environment\n"
     ]
    }
   ],
   "source": [
    "from __future__ import print_function\n",
    "\n",
    "import datetime\n",
    "\n",
    "import numpy as np\n",
    "from matplotlib import cm, pyplot as plt\n",
    "from matplotlib.dates import YearLocator, MonthLocator\n",
    "try:\n",
    "    from matplotlib.finance import quotes_historical_yahoo_ochl\n",
    "except ImportError:\n",
    "    # For Matplotlib prior to 1.5.\n",
    "    from matplotlib.finance import (\n",
    "        quotes_historical_yahoo as quotes_historical_yahoo_ochl\n",
    "    )\n",
    "\n",
    "from hmmlearn.hmm import GaussianHMM\n",
    "\n",
    "print(__doc__)"
   ]
  },
  {
   "cell_type": "code",
   "execution_count": 200,
   "metadata": {
    "collapsed": false
   },
   "outputs": [],
   "source": [
    "def HMM(stock, start, end, isPrint = False):\n",
    "    quotes = quotes_historical_yahoo_ochl( stock, start, end)\n",
    "\n",
    "    # Unpack quotes\n",
    "    dates = np.array([q[0] for q in quotes], dtype=int)\n",
    "    close_v = np.array([q[2] for q in quotes])\n",
    "    volume = np.array([q[5] for q in quotes])[1:]\n",
    "    open_v = np.array([q[1] for q in quotes])\n",
    "    high_v = np.array([q[3] for q in quotes])\n",
    "    low_v = np.array([q[4] for q in quotes])\n",
    "\n",
    "    diff = np.diff(close_v)\n",
    "    dates = dates[1:]\n",
    "    gap = close_v[1:] - open_v[0:(len(open_v)-1)]\n",
    "    close_v = close_v[1:]\n",
    "    # open_v =open_v[1:]\n",
    "    diff_op = np.diff(open_v)\n",
    "    # high_v = high_v[1:]\n",
    "    # low_v = low_v[1:]\n",
    "\n",
    "    # quotes\n",
    "    X = np.column_stack([diff, volume]) \n",
    "#     X = np.column_stack([close_v, open_v, high_v,low_v]) \n",
    "    # Make an HMM instance and execute fit\n",
    "    model = GaussianHMM(n_components=4, covariance_type=\"diag\", n_iter=1000).fit(X)\n",
    "    \n",
    "    # Predict the optimal sequence of internal hidden state\n",
    "    hidden_states = model.predict(X)\n",
    "    \n",
    "#     isPrint = False\n",
    "    if isPrint:\n",
    "        print(\"Transition matrix\")\n",
    "        print(model.transmat_)\n",
    "        print()\n",
    "\n",
    "        print(\"Means and vars of each hidden state\")\n",
    "        for i in range(model.n_components):\n",
    "            print(\"{0}th hidden state\".format(i))\n",
    "            print(\"mean = \", model.means_[i])\n",
    "            print(\"var = \", np.diag(model.covars_[i]))\n",
    "            print()\n",
    "            \n",
    "        fig, axs = plt.subplots(model.n_components, sharex=True, sharey=True)\n",
    "        colours = cm.rainbow(np.linspace(0, 1, model.n_components))\n",
    "        for i, (ax, colour) in enumerate(zip(axs, colours)):\n",
    "            # Use fancy indexing to plot data in each state.\n",
    "            mask = hidden_states == i\n",
    "            ax.plot_date(dates[mask], close_v[mask], \".-\", c=colour)\n",
    "            ax.set_title(\"{0}th hidden state\".format(i))\n",
    "\n",
    "            # Format the ticks.\n",
    "            ax.xaxis.set_major_locator(YearLocator())\n",
    "            ax.xaxis.set_minor_locator(MonthLocator())\n",
    "            ax.grid(True)\n",
    "\n",
    "        plt.show()\n",
    "    \n",
    "    \n",
    "    Zn_post = model.predict_proba(X)[-1]\n",
    "    Zn1Zn = (model.transmat_.T * Zn_post).T\n",
    "    Zn1_post = np.sum(Zn1Zn, axis = 0)\n",
    "    \n",
    "    x = np.linspace(-100,100,1000000)\n",
    "    if isPrint:\n",
    "        plt.plot(x,mix_normal(model, x, Zn1_post))\n",
    "    predict = x[np.argmax(mix_normal(model, x, Zn1_post))]\n",
    "    \n",
    "    return predict+close_v[-1]\n",
    "\n",
    "import scipy.stats as sp\n",
    "def mix_normal(model, x,Zn1_post):\n",
    "    r = 0\n",
    "    for i in range(4):\n",
    "        r += sp.norm.pdf(x,model.means_[i][0],model.covars_[i][0,0])*Zn1_post[i]\n",
    "    return r\n"
   ]
  },
  {
   "cell_type": "code",
   "execution_count": 201,
   "metadata": {
    "collapsed": false,
    "scrolled": false
   },
   "outputs": [],
   "source": [
    "def MSE(df, df_true):\n",
    "    output = []\n",
    "    for i in range(df.shape[1]):\n",
    "        output.append(sum((df.ix[:,i]- df_true.ix[:,i])**2)/df.shape[1])\n",
    "    return output"
   ]
  },
  {
   "cell_type": "markdown",
   "metadata": {},
   "source": [
    "# GOOGLE"
   ]
  },
  {
   "cell_type": "code",
   "execution_count": 202,
   "metadata": {
    "collapsed": false
   },
   "outputs": [
    {
     "name": "stdout",
     "output_type": "stream",
     "text": [
      "Transition matrix\n",
      "[[  7.54995803e-01   2.43200188e-01   2.47707221e-84   1.80400942e-03]\n",
      " [  1.64314319e-02   1.44968350e-09   7.49400061e-02   9.08628560e-01]\n",
      " [  3.09219360e-86   1.66634593e-01   8.33365407e-01   9.08253705e-32]\n",
      " [  4.73953634e-01   4.24773249e-01   1.86684805e-28   1.01273117e-01]]\n",
      "\n",
      "Means and vars of each hidden state\n",
      "0th hidden state\n",
      "mean =  [  7.42297517e-01   1.73537455e+06]\n",
      "var =  [  3.97065281e+01   5.93782004e+10]\n",
      "\n",
      "1th hidden state\n",
      "mean =  [ -5.95807543e+00   2.90923578e+06]\n",
      "var =  [  1.24589414e+02   2.40490139e+11]\n",
      "\n",
      "2th hidden state\n",
      "mean =  [ -1.00311585e+01   5.36291059e+06]\n",
      "var =  [  3.35962786e+02   5.04378695e+11]\n",
      "\n",
      "3th hidden state\n",
      "mean =  [  9.37020273e+00   2.25611319e+06]\n",
      "var =  [  1.15108379e+02   6.28415161e+10]\n",
      "\n"
     ]
    },
    {
     "data": {
      "image/png": "[encoded data removed]",
      "text/plain": [
       "<matplotlib.figure.Figure at 0x10d429588>"
      ]
     },
     "metadata": {},
     "output_type": "display_data"
    },
    {
     "data": {
      "text/plain": [
       "750.58487367490068"
      ]
     },
     "execution_count": 202,
     "metadata": {},
     "output_type": "execute_result"
    },
    {
     "data": {
      "image/png": "[encoded data removed]",
      "text/plain": [
       "<matplotlib.figure.Figure at 0x1033c0a58>"
      ]
     },
     "metadata": {},
     "output_type": "display_data"
    }
   ],
   "source": [
    "HMM('GOOG', datetime.datetime(2016,1,1), datetime.datetime(2016,4,1),True)"
   ]
  },
  {
   "cell_type": "markdown",
   "metadata": {},
   "source": [
    "# LinkedIn"
   ]
  },
  {
   "cell_type": "code",
   "execution_count": 213,
   "metadata": {
    "collapsed": false,
    "scrolled": false
   },
   "outputs": [
    {
     "name": "stdout",
     "output_type": "stream",
     "text": [
      "Transition matrix\n",
      "[[  9.38913278e-001   0.00000000e+000   6.10867200e-002   1.94512230e-009]\n",
      " [  0.00000000e+000   0.00000000e+000   0.00000000e+000   1.00000000e+000]\n",
      " [  8.51364886e-002   3.60674508e-167   8.29353977e-001   8.55095346e-002]\n",
      " [  1.45392046e-012   6.99451440e-002   2.90861310e-001   6.39193546e-001]]\n",
      "\n",
      "Means and vars of each hidden state\n",
      "0th hidden state\n",
      "mean =  [ -5.39936493e-01   1.27966809e+06]\n",
      "var =  [  1.33718034e+01   1.51014980e+11]\n",
      "\n",
      "1th hidden state\n",
      "mean =  [ -8.39000020e+01   4.40814000e+07]\n",
      "var =  [ 0.01  0.01]\n",
      "\n",
      "2th hidden state\n",
      "mean =  [  9.92774417e-01   2.57346804e+06]\n",
      "var =  [  1.32140616e+01   3.76995538e+11]\n",
      "\n",
      "3th hidden state\n",
      "mean =  [  9.94872437e-01   6.31431145e+06]\n",
      "var =  [  6.27562902e+01   7.47168046e+12]\n",
      "\n"
     ]
    },
    {
     "data": {
      "image/png": "[encoded data removed]",
      "text/plain": [
       "<matplotlib.figure.Figure at 0x111c1d2e8>"
      ]
     },
     "metadata": {},
     "output_type": "display_data"
    },
    {
     "data": {
      "text/plain": [
       "116.05469742470044"
      ]
     },
     "execution_count": 213,
     "metadata": {},
     "output_type": "execute_result"
    },
    {
     "data": {
      "image/png": "[encoded data removed]",
      "text/plain": [
       "<matplotlib.figure.Figure at 0x1119fdba8>"
      ]
     },
     "metadata": {},
     "output_type": "display_data"
    }
   ],
   "source": [
    "HMM('LNKD', datetime.datetime(2016,4,1)-timedelta(211), datetime.datetime(2016,4,1),True)"
   ]
  },
  {
   "cell_type": "markdown",
   "metadata": {},
   "source": [
    "# 7 Company"
   ]
  },
  {
   "cell_type": "code",
   "execution_count": 121,
   "metadata": {
    "collapsed": true
   },
   "outputs": [],
   "source": [
    "import pandas as pd\n",
    "from pandas import Series, DataFrame\n",
    "from datetime import timedelta"
   ]
  },
  {
   "cell_type": "code",
   "execution_count": 176,
   "metadata": {
    "collapsed": false
   },
   "outputs": [],
   "source": [
    "company = [\"AAPL\",\"FB\",\"LNKD\",\"AMZN\",\"GOOG\",\"MSFT\",\"BABA\"]\n",
    "# preDate =  np.asarray(pd.date_range('4/1/2016', periods=30))\n",
    "# pd.Timestamp(preDate[1]).to_pydatetime().date()\n",
    "numdays = 20\n",
    "# base = datetime.datetime.today().date() -timedelta(1)\n",
    "base = datetime.datetime(2016,4,20)\n",
    "preDate = [base - datetime.timedelta(days=x) for x in range(0, numdays)]"
   ]
  },
  {
   "cell_type": "code",
   "execution_count": 177,
   "metadata": {
    "collapsed": false
   },
   "outputs": [],
   "source": [
    "# quotes_historical_yahoo_ochl('LNKD', datetime.datetime(2016,3,27), datetime.datetime(2016,3,27))"
   ]
  },
  {
   "cell_type": "code",
   "execution_count": 203,
   "metadata": {
    "collapsed": false
   },
   "outputs": [
    {
     "data": {
      "text/html": [
       "<div>\n",
       "<table border=\"1\" class=\"dataframe\">\n",
       "  <thead>\n",
       "    <tr style=\"text-align: right;\">\n",
       "      <th></th>\n",
       "      <th>AAPL</th>\n",
       "      <th>FB</th>\n",
       "      <th>LNKD</th>\n",
       "      <th>AMZN</th>\n",
       "      <th>GOOG</th>\n",
       "      <th>MSFT</th>\n",
       "      <th>BABA</th>\n",
       "    </tr>\n",
       "  </thead>\n",
       "  <tbody>\n",
       "    <tr>\n",
       "      <th>2016-04-20</th>\n",
       "      <td>106.64</td>\n",
       "      <td>112.43</td>\n",
       "      <td>115.75</td>\n",
       "      <td>630</td>\n",
       "      <td>758</td>\n",
       "      <td>56.29</td>\n",
       "      <td>79</td>\n",
       "    </tr>\n",
       "    <tr>\n",
       "      <th>2016-04-19</th>\n",
       "      <td>107.88</td>\n",
       "      <td>111.1</td>\n",
       "      <td>118.22</td>\n",
       "      <td>637.14</td>\n",
       "      <td>769.51</td>\n",
       "      <td>56.63</td>\n",
       "      <td>79.2</td>\n",
       "    </tr>\n",
       "    <tr>\n",
       "      <th>2016-04-18</th>\n",
       "      <td>108.89</td>\n",
       "      <td>109.74</td>\n",
       "      <td>115.76</td>\n",
       "      <td>625.35</td>\n",
       "      <td>760.46</td>\n",
       "      <td>55.49</td>\n",
       "      <td>78.52</td>\n",
       "    </tr>\n",
       "    <tr>\n",
       "      <th>2016-04-17</th>\n",
       "      <td>None</td>\n",
       "      <td>None</td>\n",
       "      <td>None</td>\n",
       "      <td>None</td>\n",
       "      <td>None</td>\n",
       "      <td>None</td>\n",
       "      <td>None</td>\n",
       "    </tr>\n",
       "    <tr>\n",
       "      <th>2016-04-16</th>\n",
       "      <td>None</td>\n",
       "      <td>None</td>\n",
       "      <td>None</td>\n",
       "      <td>None</td>\n",
       "      <td>None</td>\n",
       "      <td>None</td>\n",
       "      <td>None</td>\n",
       "    </tr>\n",
       "  </tbody>\n",
       "</table>\n",
       "</div>"
      ],
      "text/plain": [
       "              AAPL      FB    LNKD    AMZN    GOOG   MSFT   BABA\n",
       "2016-04-20  106.64  112.43  115.75     630     758  56.29     79\n",
       "2016-04-19  107.88   111.1  118.22  637.14  769.51  56.63   79.2\n",
       "2016-04-18  108.89  109.74  115.76  625.35  760.46  55.49  78.52\n",
       "2016-04-17    None    None    None    None    None   None   None\n",
       "2016-04-16    None    None    None    None    None   None   None"
      ]
     },
     "execution_count": 203,
     "metadata": {},
     "output_type": "execute_result"
    }
   ],
   "source": [
    "# true data\n",
    "df_true =DataFrame(index = preDate, columns = company)\n",
    "for date in preDate:\n",
    "    for comp in company:\n",
    "        true = quotes_historical_yahoo_ochl(comp, date, date)\n",
    "        if true is None:\n",
    "            df_true[comp][date] = None\n",
    "        else:\n",
    "            df_true[comp][date] = true[0][1]\n",
    "\n",
    "df_true.head()"
   ]
  },
  {
   "cell_type": "code",
   "execution_count": 204,
   "metadata": {
    "collapsed": false
   },
   "outputs": [],
   "source": [
    "trueDate = np.array([preDate[i] for i,check in enumerate(df_true.ix[:,1]) if not check is None])\n",
    "df_true= df_true.ix[trueDate,:]\n",
    "df = DataFrame(index = trueDate, columns = company)"
   ]
  },
  {
   "cell_type": "code",
   "execution_count": null,
   "metadata": {
    "collapsed": false,
    "scrolled": true
   },
   "outputs": [],
   "source": []
  },
  {
   "cell_type": "code",
   "execution_count": 214,
   "metadata": {
    "collapsed": false
   },
   "outputs": [],
   "source": [
    "#test\n",
    "\n",
    "dff = DataFrame(index = trueDate, columns = ['GOOG'])\n",
    "for date in trueDate:\n",
    "     dff['GOOG'][date] = HMM('GOOG', date-timedelta(71), date-timedelta(1))\n"
   ]
  },
  {
   "cell_type": "code",
   "execution_count": null,
   "metadata": {
    "collapsed": false
   },
   "outputs": [],
   "source": [
    "# "
   ]
  },
  {
   "cell_type": "code",
   "execution_count": 205,
   "metadata": {
    "collapsed": false
   },
   "outputs": [
    {
     "data": {
      "text/plain": [
       "[<matplotlib.lines.Line2D at 0x111b67128>]"
      ]
     },
     "execution_count": 205,
     "metadata": {},
     "output_type": "execute_result"
    },
    {
     "data": {
      "image/png": "[encoded data removed]",
      "text/plain": [
       "<matplotlib.figure.Figure at 0x1110d00b8>"
      ]
     },
     "metadata": {},
     "output_type": "display_data"
    }
   ],
   "source": [
    "fig, ax = plt.subplots()\n",
    "ax.plot_date(trueDate, dff['GOOG'][trueDate], marker='o', linestyle='-')\n",
    "ax.plot_date(trueDate, df_true['GOOG'][trueDate], marker='o', linestyle='-')\n"
   ]
  },
  {
   "cell_type": "code",
   "execution_count": 210,
   "metadata": {
    "collapsed": false,
    "scrolled": false
   },
   "outputs": [
    {
     "data": {
      "text/html": [
       "<div>\n",
       "<table border=\"1\" class=\"dataframe\">\n",
       "  <thead>\n",
       "    <tr style=\"text-align: right;\">\n",
       "      <th></th>\n",
       "      <th>AAPL</th>\n",
       "      <th>FB</th>\n",
       "      <th>LNKD</th>\n",
       "      <th>AMZN</th>\n",
       "      <th>GOOG</th>\n",
       "      <th>MSFT</th>\n",
       "      <th>BABA</th>\n",
       "    </tr>\n",
       "  </thead>\n",
       "  <tbody>\n",
       "    <tr>\n",
       "      <th>2016-04-20</th>\n",
       "      <td>106.981</td>\n",
       "      <td>112.724</td>\n",
       "      <td>115.049</td>\n",
       "      <td>629.313</td>\n",
       "      <td>755.654</td>\n",
       "      <td>56.4857</td>\n",
       "      <td>82.1599</td>\n",
       "    </tr>\n",
       "    <tr>\n",
       "      <th>2016-04-19</th>\n",
       "      <td>107.325</td>\n",
       "      <td>110.875</td>\n",
       "      <td>117.789</td>\n",
       "      <td>636.102</td>\n",
       "      <td>768.497</td>\n",
       "      <td>56.5521</td>\n",
       "      <td>81.7099</td>\n",
       "    </tr>\n",
       "    <tr>\n",
       "      <th>2016-04-18</th>\n",
       "      <td>109.926</td>\n",
       "      <td>110.059</td>\n",
       "      <td>117.061</td>\n",
       "      <td>626.029</td>\n",
       "      <td>760.654</td>\n",
       "      <td>55.7261</td>\n",
       "      <td>81.6699</td>\n",
       "    </tr>\n",
       "    <tr>\n",
       "      <th>2016-04-15</th>\n",
       "      <td>112.177</td>\n",
       "      <td>111.236</td>\n",
       "      <td>33.8</td>\n",
       "      <td>621.046</td>\n",
       "      <td>753.539</td>\n",
       "      <td>55.4421</td>\n",
       "      <td>82.3099</td>\n",
       "    </tr>\n",
       "    <tr>\n",
       "      <th>2016-04-14</th>\n",
       "      <td>112.119</td>\n",
       "      <td>109.791</td>\n",
       "      <td>113.784</td>\n",
       "      <td>615.386</td>\n",
       "      <td>753.405</td>\n",
       "      <td>55.4335</td>\n",
       "      <td>82.3399</td>\n",
       "    </tr>\n",
       "    <tr>\n",
       "      <th>2016-04-13</th>\n",
       "      <td>110.485</td>\n",
       "      <td>125.27</td>\n",
       "      <td>109.638</td>\n",
       "      <td>603.302</td>\n",
       "      <td>744.354</td>\n",
       "      <td>54.7241</td>\n",
       "      <td>80.5599</td>\n",
       "    </tr>\n",
       "    <tr>\n",
       "      <th>2016-04-12</th>\n",
       "      <td>109.037</td>\n",
       "      <td>123.65</td>\n",
       "      <td>25.4</td>\n",
       "      <td>595.8</td>\n",
       "      <td>737.028</td>\n",
       "      <td>54.3981</td>\n",
       "      <td>80.4099</td>\n",
       "    </tr>\n",
       "    <tr>\n",
       "      <th>2016-04-11</th>\n",
       "      <td>108.669</td>\n",
       "      <td>125.29</td>\n",
       "      <td>24.54</td>\n",
       "      <td>594.373</td>\n",
       "      <td>740.213</td>\n",
       "      <td>54.5133</td>\n",
       "      <td>80.1699</td>\n",
       "    </tr>\n",
       "    <tr>\n",
       "      <th>2016-04-08</th>\n",
       "      <td>108.559</td>\n",
       "      <td>113.997</td>\n",
       "      <td>112.542</td>\n",
       "      <td>591.179</td>\n",
       "      <td>741.426</td>\n",
       "      <td>54.5465</td>\n",
       "      <td>80.3099</td>\n",
       "    </tr>\n",
       "    <tr>\n",
       "      <th>2016-04-07</th>\n",
       "      <td>111.016</td>\n",
       "      <td>114.096</td>\n",
       "      <td>114.916</td>\n",
       "      <td>602.537</td>\n",
       "      <td>746.501</td>\n",
       "      <td>55.2281</td>\n",
       "      <td>81.3799</td>\n",
       "    </tr>\n",
       "  </tbody>\n",
       "</table>\n",
       "</div>"
      ],
      "text/plain": [
       "               AAPL       FB     LNKD     AMZN     GOOG     MSFT     BABA\n",
       "2016-04-20  106.981  112.724  115.049  629.313  755.654  56.4857  82.1599\n",
       "2016-04-19  107.325  110.875  117.789  636.102  768.497  56.5521  81.7099\n",
       "2016-04-18  109.926  110.059  117.061  626.029  760.654  55.7261  81.6699\n",
       "2016-04-15  112.177  111.236     33.8  621.046  753.539  55.4421  82.3099\n",
       "2016-04-14  112.119  109.791  113.784  615.386  753.405  55.4335  82.3399\n",
       "2016-04-13  110.485   125.27  109.638  603.302  744.354  54.7241  80.5599\n",
       "2016-04-12  109.037   123.65     25.4    595.8  737.028  54.3981  80.4099\n",
       "2016-04-11  108.669   125.29    24.54  594.373  740.213  54.5133  80.1699\n",
       "2016-04-08  108.559  113.997  112.542  591.179  741.426  54.5465  80.3099\n",
       "2016-04-07  111.016  114.096  114.916  602.537  746.501  55.2281  81.3799"
      ]
     },
     "execution_count": 210,
     "metadata": {},
     "output_type": "execute_result"
    }
   ],
   "source": [
    "for date in trueDate:\n",
    "    for comp in company:\n",
    "#         print(date)\n",
    "#         print(comp)\n",
    "        df[comp][date] = HMM(comp, date-timedelta(211), date-timedelta(1))\n",
    "df.head(10)"
   ]
  },
  {
   "cell_type": "code",
   "execution_count": 215,
   "metadata": {
    "collapsed": false
   },
   "outputs": [
    {
     "data": {
      "text/html": [
       "<div>\n",
       "<table border=\"1\" class=\"dataframe\">\n",
       "  <thead>\n",
       "    <tr style=\"text-align: right;\">\n",
       "      <th></th>\n",
       "      <th>AAPL</th>\n",
       "      <th>FB</th>\n",
       "      <th>LNKD</th>\n",
       "      <th>AMZN</th>\n",
       "      <th>GOOG</th>\n",
       "      <th>MSFT</th>\n",
       "      <th>BABA</th>\n",
       "    </tr>\n",
       "  </thead>\n",
       "  <tbody>\n",
       "    <tr>\n",
       "      <th>2016-04-20</th>\n",
       "      <td>106.64</td>\n",
       "      <td>112.43</td>\n",
       "      <td>115.75</td>\n",
       "      <td>630</td>\n",
       "      <td>758</td>\n",
       "      <td>56.29</td>\n",
       "      <td>79</td>\n",
       "    </tr>\n",
       "    <tr>\n",
       "      <th>2016-04-19</th>\n",
       "      <td>107.88</td>\n",
       "      <td>111.1</td>\n",
       "      <td>118.22</td>\n",
       "      <td>637.14</td>\n",
       "      <td>769.51</td>\n",
       "      <td>56.63</td>\n",
       "      <td>79.2</td>\n",
       "    </tr>\n",
       "    <tr>\n",
       "      <th>2016-04-18</th>\n",
       "      <td>108.89</td>\n",
       "      <td>109.74</td>\n",
       "      <td>115.76</td>\n",
       "      <td>625.35</td>\n",
       "      <td>760.46</td>\n",
       "      <td>55.49</td>\n",
       "      <td>78.52</td>\n",
       "    </tr>\n",
       "    <tr>\n",
       "      <th>2016-04-15</th>\n",
       "      <td>112.11</td>\n",
       "      <td>110.79</td>\n",
       "      <td>117.55</td>\n",
       "      <td>621.92</td>\n",
       "      <td>753.98</td>\n",
       "      <td>55.3</td>\n",
       "      <td>79.45</td>\n",
       "    </tr>\n",
       "    <tr>\n",
       "      <th>2016-04-14</th>\n",
       "      <td>111.62</td>\n",
       "      <td>110.62</td>\n",
       "      <td>113.43</td>\n",
       "      <td>615.07</td>\n",
       "      <td>754.01</td>\n",
       "      <td>55.22</td>\n",
       "      <td>79.31</td>\n",
       "    </tr>\n",
       "    <tr>\n",
       "      <th>2016-04-13</th>\n",
       "      <td>110.8</td>\n",
       "      <td>112.23</td>\n",
       "      <td>110.7</td>\n",
       "      <td>607.68</td>\n",
       "      <td>749.16</td>\n",
       "      <td>55.12</td>\n",
       "      <td>78.74</td>\n",
       "    </tr>\n",
       "    <tr>\n",
       "      <th>2016-04-12</th>\n",
       "      <td>109.34</td>\n",
       "      <td>109.34</td>\n",
       "      <td>109.58</td>\n",
       "      <td>598.4</td>\n",
       "      <td>738</td>\n",
       "      <td>54.37</td>\n",
       "      <td>78</td>\n",
       "    </tr>\n",
       "    <tr>\n",
       "      <th>2016-04-11</th>\n",
       "      <td>108.97</td>\n",
       "      <td>110.7</td>\n",
       "      <td>108.93</td>\n",
       "      <td>596.14</td>\n",
       "      <td>743.02</td>\n",
       "      <td>54.49</td>\n",
       "      <td>78.07</td>\n",
       "    </tr>\n",
       "    <tr>\n",
       "      <th>2016-04-08</th>\n",
       "      <td>108.91</td>\n",
       "      <td>114.25</td>\n",
       "      <td>112.67</td>\n",
       "      <td>594.32</td>\n",
       "      <td>743.97</td>\n",
       "      <td>54.67</td>\n",
       "      <td>78.27</td>\n",
       "    </tr>\n",
       "    <tr>\n",
       "      <th>2016-04-07</th>\n",
       "      <td>109.95</td>\n",
       "      <td>113.79</td>\n",
       "      <td>114.25</td>\n",
       "      <td>598.76</td>\n",
       "      <td>745.37</td>\n",
       "      <td>54.87</td>\n",
       "      <td>77.6</td>\n",
       "    </tr>\n",
       "  </tbody>\n",
       "</table>\n",
       "</div>"
      ],
      "text/plain": [
       "              AAPL      FB    LNKD    AMZN    GOOG   MSFT   BABA\n",
       "2016-04-20  106.64  112.43  115.75     630     758  56.29     79\n",
       "2016-04-19  107.88   111.1  118.22  637.14  769.51  56.63   79.2\n",
       "2016-04-18  108.89  109.74  115.76  625.35  760.46  55.49  78.52\n",
       "2016-04-15  112.11  110.79  117.55  621.92  753.98   55.3  79.45\n",
       "2016-04-14  111.62  110.62  113.43  615.07  754.01  55.22  79.31\n",
       "2016-04-13   110.8  112.23   110.7  607.68  749.16  55.12  78.74\n",
       "2016-04-12  109.34  109.34  109.58   598.4     738  54.37     78\n",
       "2016-04-11  108.97   110.7  108.93  596.14  743.02  54.49  78.07\n",
       "2016-04-08  108.91  114.25  112.67  594.32  743.97  54.67  78.27\n",
       "2016-04-07  109.95  113.79  114.25  598.76  745.37  54.87   77.6"
      ]
     },
     "execution_count": 215,
     "metadata": {},
     "output_type": "execute_result"
    }
   ],
   "source": [
    "df_true.head(10)"
   ]
  },
  {
   "cell_type": "code",
   "execution_count": 211,
   "metadata": {
    "collapsed": false
   },
   "outputs": [
    {
     "data": {
      "image/png": "[encoded data removed]",
      "text/plain": [
       "<matplotlib.figure.Figure at 0x103417d30>"
      ]
     },
     "metadata": {},
     "output_type": "display_data"
    }
   ],
   "source": [
    "import numpy as np\n",
    "import pandas as pd\n",
    "import matplotlib.pyplot as plt\n",
    "\n",
    "fig, ax = plt.subplots()\n",
    "ax.plot_date(trueDate, df['AMZN'][trueDate], marker='o', linestyle='-')\n",
    "ax.plot_date(trueDate, df_true['AMZN'][trueDate], marker='o', linestyle='-')\n",
    "\n",
    "fig.autofmt_xdate()\n",
    "plt.show()"
   ]
  },
  {
   "cell_type": "code",
   "execution_count": 194,
   "metadata": {
    "collapsed": false
   },
   "outputs": [
    {
     "data": {
      "text/html": [
       "<div>\n",
       "<table border=\"1\" class=\"dataframe\">\n",
       "  <thead>\n",
       "    <tr style=\"text-align: right;\">\n",
       "      <th></th>\n",
       "      <th>GOOG</th>\n",
       "    </tr>\n",
       "  </thead>\n",
       "  <tbody>\n",
       "    <tr>\n",
       "      <th>2016-04-20</th>\n",
       "      <td>758</td>\n",
       "    </tr>\n",
       "    <tr>\n",
       "      <th>2016-04-19</th>\n",
       "      <td>769.51</td>\n",
       "    </tr>\n",
       "    <tr>\n",
       "      <th>2016-04-18</th>\n",
       "      <td>760.46</td>\n",
       "    </tr>\n",
       "    <tr>\n",
       "      <th>2016-04-15</th>\n",
       "      <td>753.98</td>\n",
       "    </tr>\n",
       "    <tr>\n",
       "      <th>2016-04-14</th>\n",
       "      <td>754.01</td>\n",
       "    </tr>\n",
       "    <tr>\n",
       "      <th>2016-04-13</th>\n",
       "      <td>749.16</td>\n",
       "    </tr>\n",
       "    <tr>\n",
       "      <th>2016-04-12</th>\n",
       "      <td>738</td>\n",
       "    </tr>\n",
       "    <tr>\n",
       "      <th>2016-04-11</th>\n",
       "      <td>743.02</td>\n",
       "    </tr>\n",
       "    <tr>\n",
       "      <th>2016-04-08</th>\n",
       "      <td>743.97</td>\n",
       "    </tr>\n",
       "    <tr>\n",
       "      <th>2016-04-07</th>\n",
       "      <td>745.37</td>\n",
       "    </tr>\n",
       "    <tr>\n",
       "      <th>2016-04-06</th>\n",
       "      <td>735.77</td>\n",
       "    </tr>\n",
       "    <tr>\n",
       "      <th>2016-04-05</th>\n",
       "      <td>738</td>\n",
       "    </tr>\n",
       "    <tr>\n",
       "      <th>2016-04-04</th>\n",
       "      <td>750.06</td>\n",
       "    </tr>\n",
       "    <tr>\n",
       "      <th>2016-04-01</th>\n",
       "      <td>738.6</td>\n",
       "    </tr>\n",
       "  </tbody>\n",
       "</table>\n",
       "</div>"
      ],
      "text/plain": [
       "              GOOG\n",
       "2016-04-20     758\n",
       "2016-04-19  769.51\n",
       "2016-04-18  760.46\n",
       "2016-04-15  753.98\n",
       "2016-04-14  754.01\n",
       "2016-04-13  749.16\n",
       "2016-04-12     738\n",
       "2016-04-11  743.02\n",
       "2016-04-08  743.97\n",
       "2016-04-07  745.37\n",
       "2016-04-06  735.77\n",
       "2016-04-05     738\n",
       "2016-04-04  750.06\n",
       "2016-04-01   738.6"
      ]
     },
     "execution_count": 194,
     "metadata": {},
     "output_type": "execute_result"
    }
   ],
   "source": [
    "DataFrame(df_true['GOOG'])"
   ]
  },
  {
   "cell_type": "code",
   "execution_count": 195,
   "metadata": {
    "collapsed": false
   },
   "outputs": [
    {
     "data": {
      "text/plain": [
       "[223.72093542304941]"
      ]
     },
     "execution_count": 195,
     "metadata": {},
     "output_type": "execute_result"
    }
   ],
   "source": [
    "MSE(dff,DataFrame(df_true['A']))"
   ]
  },
  {
   "cell_type": "code",
   "execution_count": 212,
   "metadata": {
    "collapsed": false,
    "scrolled": true
   },
   "outputs": [
    {
     "data": {
      "text/plain": [
       "[0.92045600367485447,\n",
       " 84.978221058143816,\n",
       " 3032.8828144602367,\n",
       " 10.309770118255912,\n",
       " 21.157662497841979,\n",
       " 0.12043091148434169,\n",
       " 16.792358869982003]"
      ]
     },
     "execution_count": 212,
     "metadata": {},
     "output_type": "execute_result"
    }
   ],
   "source": [
    "MSE(df,df_true)"
   ]
  },
  {
   "cell_type": "code",
   "execution_count": 199,
   "metadata": {
    "collapsed": false
   },
   "outputs": [
    {
     "data": {
      "text/html": [
       "<div>\n",
       "<table border=\"1\" class=\"dataframe\">\n",
       "  <thead>\n",
       "    <tr style=\"text-align: right;\">\n",
       "      <th></th>\n",
       "      <th>GOOG</th>\n",
       "    </tr>\n",
       "  </thead>\n",
       "  <tbody>\n",
       "    <tr>\n",
       "      <th>2016-04-20</th>\n",
       "      <td>1.7401</td>\n",
       "    </tr>\n",
       "    <tr>\n",
       "      <th>2016-04-19</th>\n",
       "      <td>-2.67432</td>\n",
       "    </tr>\n",
       "    <tr>\n",
       "      <th>2016-04-18</th>\n",
       "      <td>-1.69672</td>\n",
       "    </tr>\n",
       "    <tr>\n",
       "      <th>2016-04-15</th>\n",
       "      <td>-1.19487</td>\n",
       "    </tr>\n",
       "    <tr>\n",
       "      <th>2016-04-14</th>\n",
       "      <td>-1.90314</td>\n",
       "    </tr>\n",
       "    <tr>\n",
       "      <th>2016-04-13</th>\n",
       "      <td>-7.26245</td>\n",
       "    </tr>\n",
       "    <tr>\n",
       "      <th>2016-04-12</th>\n",
       "      <td>-2.20392</td>\n",
       "    </tr>\n",
       "    <tr>\n",
       "      <th>2016-04-11</th>\n",
       "      <td>-3.9553</td>\n",
       "    </tr>\n",
       "    <tr>\n",
       "      <th>2016-04-08</th>\n",
       "      <td>-3.05244</td>\n",
       "    </tr>\n",
       "    <tr>\n",
       "      <th>2016-04-07</th>\n",
       "      <td>1.28651</td>\n",
       "    </tr>\n",
       "    <tr>\n",
       "      <th>2016-04-06</th>\n",
       "      <td>2.72187</td>\n",
       "    </tr>\n",
       "    <tr>\n",
       "      <th>2016-04-05</th>\n",
       "      <td>8.25528</td>\n",
       "    </tr>\n",
       "    <tr>\n",
       "      <th>2016-04-04</th>\n",
       "      <td>1.09028</td>\n",
       "    </tr>\n",
       "    <tr>\n",
       "      <th>2016-04-01</th>\n",
       "      <td>6.68194</td>\n",
       "    </tr>\n",
       "  </tbody>\n",
       "</table>\n",
       "</div>"
      ],
      "text/plain": [
       "               GOOG\n",
       "2016-04-20   1.7401\n",
       "2016-04-19 -2.67432\n",
       "2016-04-18 -1.69672\n",
       "2016-04-15 -1.19487\n",
       "2016-04-14 -1.90314\n",
       "2016-04-13 -7.26245\n",
       "2016-04-12 -2.20392\n",
       "2016-04-11  -3.9553\n",
       "2016-04-08 -3.05244\n",
       "2016-04-07  1.28651\n",
       "2016-04-06  2.72187\n",
       "2016-04-05  8.25528\n",
       "2016-04-04  1.09028\n",
       "2016-04-01  6.68194"
      ]
     },
     "execution_count": 199,
     "metadata": {},
     "output_type": "execute_result"
    }
   ],
   "source": [
    "dff-DataFrame(df_true['GOOG'])"
   ]
  },
  {
   "cell_type": "markdown",
   "metadata": {},
   "source": [
    "$P(Z_n | x_1 \\dots, x_n) $"
   ]
  },
  {
   "cell_type": "code",
   "execution_count": 296,
   "metadata": {
    "collapsed": false
   },
   "outputs": [],
   "source": [
    "Zn_post = model.predict_proba(X)[-1]"
   ]
  },
  {
   "cell_type": "markdown",
   "metadata": {},
   "source": [
    "$P(Z_{n+1}, Z_{n} | X_1, \\dots, X_n) = P(Z_{n+1} | Z_n) * P(Z_n | x_1 \\dots, x_n)$"
   ]
  },
  {
   "cell_type": "code",
   "execution_count": 297,
   "metadata": {
    "collapsed": false
   },
   "outputs": [],
   "source": [
    "Zn1Zn = (model.transmat_.T * Zn_post).T"
   ]
  },
  {
   "cell_type": "markdown",
   "metadata": {},
   "source": [
    "$P(Z_{n+1} | X_1, \\dots, X_n) = \\sum_{i=1}^{4} P(Z_{n+1}, Z_{n} =i | X_1, \\dots, X_n) $"
   ]
  },
  {
   "cell_type": "code",
   "execution_count": 298,
   "metadata": {
    "collapsed": false
   },
   "outputs": [],
   "source": [
    "Zn1_post = np.sum(Zn1Zn, axis = 0)"
   ]
  },
  {
   "cell_type": "code",
   "execution_count": 299,
   "metadata": {
    "collapsed": false
   },
   "outputs": [
    {
     "data": {
      "text/plain": [
       "array([  5.96671768e-05,   3.27469809e-01,   4.40764272e-02,\n",
       "         6.28394096e-01])"
      ]
     },
     "execution_count": 299,
     "metadata": {},
     "output_type": "execute_result"
    }
   ],
   "source": [
    "Zn1_post "
   ]
  },
  {
   "cell_type": "code",
   "execution_count": 30,
   "metadata": {
    "collapsed": false
   },
   "outputs": [],
   "source": [
    "test = quotes_historical_yahoo_ochl(\n",
    "    \"AAPL\", datetime.date(2016, 4, 1), datetime.date(2016, 4, 2))"
   ]
  },
  {
   "cell_type": "code",
   "execution_count": 31,
   "metadata": {
    "collapsed": false
   },
   "outputs": [
    {
     "data": {
      "text/plain": [
       "[(736055.0, 108.779999, 109.989998, 110.0, 108.199997, 25626200.0)]"
      ]
     },
     "execution_count": 31,
     "metadata": {},
     "output_type": "execute_result"
    }
   ],
   "source": [
    "test"
   ]
  }
 ],
 "metadata": {
  "kernelspec": {
   "display_name": "Python 3",
   "language": "python",
   "name": "python3"
  },
  "language_info": {
   "codemirror_mode": {
    "name": "ipython",
    "version": 3
   },
   "file_extension": ".py",
   "mimetype": "text/x-python",
   "name": "python",
   "nbconvert_exporter": "python",
   "pygments_lexer": "ipython3",
   "version": "3.5.1"
  }
 },
 "nbformat": 4,
 "nbformat_minor": 0
}
